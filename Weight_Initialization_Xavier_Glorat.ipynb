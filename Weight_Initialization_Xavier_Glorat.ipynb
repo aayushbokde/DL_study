{
  "nbformat": 4,
  "nbformat_minor": 0,
  "metadata": {
    "colab": {
      "provenance": [],
      "authorship_tag": "ABX9TyMsw1yveILSOnSGdS/bTsY6",
      "include_colab_link": true
    },
    "kernelspec": {
      "name": "python3",
      "display_name": "Python 3"
    },
    "language_info": {
      "name": "python"
    }
  },
  "cells": [
    {
      "cell_type": "markdown",
      "metadata": {
        "id": "view-in-github",
        "colab_type": "text"
      },
      "source": [
        "<a href=\"https://colab.research.google.com/github/aayushbokde/DL_study/blob/main/Weight_Initialization_Xavier_Glorat.ipynb\" target=\"_parent\"><img src=\"https://colab.research.google.com/assets/colab-badge.svg\" alt=\"Open In Colab\"/></a>"
      ]
    },
    {
      "cell_type": "code",
      "execution_count": 1,
      "metadata": {
        "id": "vL-EcSK4oHKF"
      },
      "outputs": [],
      "source": [
        "import numpy as np\n",
        "import pandas as pd\n",
        "import matplotlib.pyplot as plt\n"
      ]
    },
    {
      "cell_type": "code",
      "source": [
        "from google.colab import files\n",
        "uploaded = files.upload()"
      ],
      "metadata": {
        "colab": {
          "base_uri": "https://localhost:8080/",
          "height": 73
        },
        "id": "vBTz6aDgoVSo",
        "outputId": "9a28575b-cd83-473c-888e-f25187baafd8"
      },
      "execution_count": 2,
      "outputs": [
        {
          "output_type": "display_data",
          "data": {
            "text/plain": [
              "<IPython.core.display.HTML object>"
            ],
            "text/html": [
              "\n",
              "     <input type=\"file\" id=\"files-210a21f4-6e10-4c1b-8918-d2709c3bed4f\" name=\"files[]\" multiple disabled\n",
              "        style=\"border:none\" />\n",
              "     <output id=\"result-210a21f4-6e10-4c1b-8918-d2709c3bed4f\">\n",
              "      Upload widget is only available when the cell has been executed in the\n",
              "      current browser session. Please rerun this cell to enable.\n",
              "      </output>\n",
              "      <script>// Copyright 2017 Google LLC\n",
              "//\n",
              "// Licensed under the Apache License, Version 2.0 (the \"License\");\n",
              "// you may not use this file except in compliance with the License.\n",
              "// You may obtain a copy of the License at\n",
              "//\n",
              "//      http://www.apache.org/licenses/LICENSE-2.0\n",
              "//\n",
              "// Unless required by applicable law or agreed to in writing, software\n",
              "// distributed under the License is distributed on an \"AS IS\" BASIS,\n",
              "// WITHOUT WARRANTIES OR CONDITIONS OF ANY KIND, either express or implied.\n",
              "// See the License for the specific language governing permissions and\n",
              "// limitations under the License.\n",
              "\n",
              "/**\n",
              " * @fileoverview Helpers for google.colab Python module.\n",
              " */\n",
              "(function(scope) {\n",
              "function span(text, styleAttributes = {}) {\n",
              "  const element = document.createElement('span');\n",
              "  element.textContent = text;\n",
              "  for (const key of Object.keys(styleAttributes)) {\n",
              "    element.style[key] = styleAttributes[key];\n",
              "  }\n",
              "  return element;\n",
              "}\n",
              "\n",
              "// Max number of bytes which will be uploaded at a time.\n",
              "const MAX_PAYLOAD_SIZE = 100 * 1024;\n",
              "\n",
              "function _uploadFiles(inputId, outputId) {\n",
              "  const steps = uploadFilesStep(inputId, outputId);\n",
              "  const outputElement = document.getElementById(outputId);\n",
              "  // Cache steps on the outputElement to make it available for the next call\n",
              "  // to uploadFilesContinue from Python.\n",
              "  outputElement.steps = steps;\n",
              "\n",
              "  return _uploadFilesContinue(outputId);\n",
              "}\n",
              "\n",
              "// This is roughly an async generator (not supported in the browser yet),\n",
              "// where there are multiple asynchronous steps and the Python side is going\n",
              "// to poll for completion of each step.\n",
              "// This uses a Promise to block the python side on completion of each step,\n",
              "// then passes the result of the previous step as the input to the next step.\n",
              "function _uploadFilesContinue(outputId) {\n",
              "  const outputElement = document.getElementById(outputId);\n",
              "  const steps = outputElement.steps;\n",
              "\n",
              "  const next = steps.next(outputElement.lastPromiseValue);\n",
              "  return Promise.resolve(next.value.promise).then((value) => {\n",
              "    // Cache the last promise value to make it available to the next\n",
              "    // step of the generator.\n",
              "    outputElement.lastPromiseValue = value;\n",
              "    return next.value.response;\n",
              "  });\n",
              "}\n",
              "\n",
              "/**\n",
              " * Generator function which is called between each async step of the upload\n",
              " * process.\n",
              " * @param {string} inputId Element ID of the input file picker element.\n",
              " * @param {string} outputId Element ID of the output display.\n",
              " * @return {!Iterable<!Object>} Iterable of next steps.\n",
              " */\n",
              "function* uploadFilesStep(inputId, outputId) {\n",
              "  const inputElement = document.getElementById(inputId);\n",
              "  inputElement.disabled = false;\n",
              "\n",
              "  const outputElement = document.getElementById(outputId);\n",
              "  outputElement.innerHTML = '';\n",
              "\n",
              "  const pickedPromise = new Promise((resolve) => {\n",
              "    inputElement.addEventListener('change', (e) => {\n",
              "      resolve(e.target.files);\n",
              "    });\n",
              "  });\n",
              "\n",
              "  const cancel = document.createElement('button');\n",
              "  inputElement.parentElement.appendChild(cancel);\n",
              "  cancel.textContent = 'Cancel upload';\n",
              "  const cancelPromise = new Promise((resolve) => {\n",
              "    cancel.onclick = () => {\n",
              "      resolve(null);\n",
              "    };\n",
              "  });\n",
              "\n",
              "  // Wait for the user to pick the files.\n",
              "  const files = yield {\n",
              "    promise: Promise.race([pickedPromise, cancelPromise]),\n",
              "    response: {\n",
              "      action: 'starting',\n",
              "    }\n",
              "  };\n",
              "\n",
              "  cancel.remove();\n",
              "\n",
              "  // Disable the input element since further picks are not allowed.\n",
              "  inputElement.disabled = true;\n",
              "\n",
              "  if (!files) {\n",
              "    return {\n",
              "      response: {\n",
              "        action: 'complete',\n",
              "      }\n",
              "    };\n",
              "  }\n",
              "\n",
              "  for (const file of files) {\n",
              "    const li = document.createElement('li');\n",
              "    li.append(span(file.name, {fontWeight: 'bold'}));\n",
              "    li.append(span(\n",
              "        `(${file.type || 'n/a'}) - ${file.size} bytes, ` +\n",
              "        `last modified: ${\n",
              "            file.lastModifiedDate ? file.lastModifiedDate.toLocaleDateString() :\n",
              "                                    'n/a'} - `));\n",
              "    const percent = span('0% done');\n",
              "    li.appendChild(percent);\n",
              "\n",
              "    outputElement.appendChild(li);\n",
              "\n",
              "    const fileDataPromise = new Promise((resolve) => {\n",
              "      const reader = new FileReader();\n",
              "      reader.onload = (e) => {\n",
              "        resolve(e.target.result);\n",
              "      };\n",
              "      reader.readAsArrayBuffer(file);\n",
              "    });\n",
              "    // Wait for the data to be ready.\n",
              "    let fileData = yield {\n",
              "      promise: fileDataPromise,\n",
              "      response: {\n",
              "        action: 'continue',\n",
              "      }\n",
              "    };\n",
              "\n",
              "    // Use a chunked sending to avoid message size limits. See b/62115660.\n",
              "    let position = 0;\n",
              "    do {\n",
              "      const length = Math.min(fileData.byteLength - position, MAX_PAYLOAD_SIZE);\n",
              "      const chunk = new Uint8Array(fileData, position, length);\n",
              "      position += length;\n",
              "\n",
              "      const base64 = btoa(String.fromCharCode.apply(null, chunk));\n",
              "      yield {\n",
              "        response: {\n",
              "          action: 'append',\n",
              "          file: file.name,\n",
              "          data: base64,\n",
              "        },\n",
              "      };\n",
              "\n",
              "      let percentDone = fileData.byteLength === 0 ?\n",
              "          100 :\n",
              "          Math.round((position / fileData.byteLength) * 100);\n",
              "      percent.textContent = `${percentDone}% done`;\n",
              "\n",
              "    } while (position < fileData.byteLength);\n",
              "  }\n",
              "\n",
              "  // All done.\n",
              "  yield {\n",
              "    response: {\n",
              "      action: 'complete',\n",
              "    }\n",
              "  };\n",
              "}\n",
              "\n",
              "scope.google = scope.google || {};\n",
              "scope.google.colab = scope.google.colab || {};\n",
              "scope.google.colab._files = {\n",
              "  _uploadFiles,\n",
              "  _uploadFilesContinue,\n",
              "};\n",
              "})(self);\n",
              "</script> "
            ]
          },
          "metadata": {}
        },
        {
          "output_type": "stream",
          "name": "stdout",
          "text": [
            "Saving ushape.csv to ushape.csv\n"
          ]
        }
      ]
    },
    {
      "cell_type": "code",
      "source": [
        "df = pd.read_csv('ushape.csv')"
      ],
      "metadata": {
        "id": "rYPOK5A9ocgF"
      },
      "execution_count": 3,
      "outputs": []
    },
    {
      "cell_type": "code",
      "source": [
        "df.head()"
      ],
      "metadata": {
        "colab": {
          "base_uri": "https://localhost:8080/",
          "height": 206
        },
        "id": "R07uyk_aojkL",
        "outputId": "09af6729-50af-487a-f445-cdee85f15197"
      },
      "execution_count": 4,
      "outputs": [
        {
          "output_type": "execute_result",
          "data": {
            "text/plain": [
              "   3.159499363321345566e-02  9.869877579082642072e-01  \\\n",
              "0                  2.115098                 -0.046244   \n",
              "1                  0.882490                 -0.075756   \n",
              "2                 -0.055144                 -0.037332   \n",
              "3                  0.829545                 -0.539321   \n",
              "4                  2.112857                  0.662084   \n",
              "\n",
              "   0.000000000000000000e+00  \n",
              "0                       1.0  \n",
              "1                       0.0  \n",
              "2                       1.0  \n",
              "3                       1.0  \n",
              "4                       1.0  "
            ],
            "text/html": [
              "\n",
              "  <div id=\"df-a0915242-77d0-48f2-8158-0add6923d776\" class=\"colab-df-container\">\n",
              "    <div>\n",
              "<style scoped>\n",
              "    .dataframe tbody tr th:only-of-type {\n",
              "        vertical-align: middle;\n",
              "    }\n",
              "\n",
              "    .dataframe tbody tr th {\n",
              "        vertical-align: top;\n",
              "    }\n",
              "\n",
              "    .dataframe thead th {\n",
              "        text-align: right;\n",
              "    }\n",
              "</style>\n",
              "<table border=\"1\" class=\"dataframe\">\n",
              "  <thead>\n",
              "    <tr style=\"text-align: right;\">\n",
              "      <th></th>\n",
              "      <th>3.159499363321345566e-02</th>\n",
              "      <th>9.869877579082642072e-01</th>\n",
              "      <th>0.000000000000000000e+00</th>\n",
              "    </tr>\n",
              "  </thead>\n",
              "  <tbody>\n",
              "    <tr>\n",
              "      <th>0</th>\n",
              "      <td>2.115098</td>\n",
              "      <td>-0.046244</td>\n",
              "      <td>1.0</td>\n",
              "    </tr>\n",
              "    <tr>\n",
              "      <th>1</th>\n",
              "      <td>0.882490</td>\n",
              "      <td>-0.075756</td>\n",
              "      <td>0.0</td>\n",
              "    </tr>\n",
              "    <tr>\n",
              "      <th>2</th>\n",
              "      <td>-0.055144</td>\n",
              "      <td>-0.037332</td>\n",
              "      <td>1.0</td>\n",
              "    </tr>\n",
              "    <tr>\n",
              "      <th>3</th>\n",
              "      <td>0.829545</td>\n",
              "      <td>-0.539321</td>\n",
              "      <td>1.0</td>\n",
              "    </tr>\n",
              "    <tr>\n",
              "      <th>4</th>\n",
              "      <td>2.112857</td>\n",
              "      <td>0.662084</td>\n",
              "      <td>1.0</td>\n",
              "    </tr>\n",
              "  </tbody>\n",
              "</table>\n",
              "</div>\n",
              "    <div class=\"colab-df-buttons\">\n",
              "\n",
              "  <div class=\"colab-df-container\">\n",
              "    <button class=\"colab-df-convert\" onclick=\"convertToInteractive('df-a0915242-77d0-48f2-8158-0add6923d776')\"\n",
              "            title=\"Convert this dataframe to an interactive table.\"\n",
              "            style=\"display:none;\">\n",
              "\n",
              "  <svg xmlns=\"http://www.w3.org/2000/svg\" height=\"24px\" viewBox=\"0 -960 960 960\">\n",
              "    <path d=\"M120-120v-720h720v720H120Zm60-500h600v-160H180v160Zm220 220h160v-160H400v160Zm0 220h160v-160H400v160ZM180-400h160v-160H180v160Zm440 0h160v-160H620v160ZM180-180h160v-160H180v160Zm440 0h160v-160H620v160Z\"/>\n",
              "  </svg>\n",
              "    </button>\n",
              "\n",
              "  <style>\n",
              "    .colab-df-container {\n",
              "      display:flex;\n",
              "      gap: 12px;\n",
              "    }\n",
              "\n",
              "    .colab-df-convert {\n",
              "      background-color: #E8F0FE;\n",
              "      border: none;\n",
              "      border-radius: 50%;\n",
              "      cursor: pointer;\n",
              "      display: none;\n",
              "      fill: #1967D2;\n",
              "      height: 32px;\n",
              "      padding: 0 0 0 0;\n",
              "      width: 32px;\n",
              "    }\n",
              "\n",
              "    .colab-df-convert:hover {\n",
              "      background-color: #E2EBFA;\n",
              "      box-shadow: 0px 1px 2px rgba(60, 64, 67, 0.3), 0px 1px 3px 1px rgba(60, 64, 67, 0.15);\n",
              "      fill: #174EA6;\n",
              "    }\n",
              "\n",
              "    .colab-df-buttons div {\n",
              "      margin-bottom: 4px;\n",
              "    }\n",
              "\n",
              "    [theme=dark] .colab-df-convert {\n",
              "      background-color: #3B4455;\n",
              "      fill: #D2E3FC;\n",
              "    }\n",
              "\n",
              "    [theme=dark] .colab-df-convert:hover {\n",
              "      background-color: #434B5C;\n",
              "      box-shadow: 0px 1px 3px 1px rgba(0, 0, 0, 0.15);\n",
              "      filter: drop-shadow(0px 1px 2px rgba(0, 0, 0, 0.3));\n",
              "      fill: #FFFFFF;\n",
              "    }\n",
              "  </style>\n",
              "\n",
              "    <script>\n",
              "      const buttonEl =\n",
              "        document.querySelector('#df-a0915242-77d0-48f2-8158-0add6923d776 button.colab-df-convert');\n",
              "      buttonEl.style.display =\n",
              "        google.colab.kernel.accessAllowed ? 'block' : 'none';\n",
              "\n",
              "      async function convertToInteractive(key) {\n",
              "        const element = document.querySelector('#df-a0915242-77d0-48f2-8158-0add6923d776');\n",
              "        const dataTable =\n",
              "          await google.colab.kernel.invokeFunction('convertToInteractive',\n",
              "                                                    [key], {});\n",
              "        if (!dataTable) return;\n",
              "\n",
              "        const docLinkHtml = 'Like what you see? Visit the ' +\n",
              "          '<a target=\"_blank\" href=https://colab.research.google.com/notebooks/data_table.ipynb>data table notebook</a>'\n",
              "          + ' to learn more about interactive tables.';\n",
              "        element.innerHTML = '';\n",
              "        dataTable['output_type'] = 'display_data';\n",
              "        await google.colab.output.renderOutput(dataTable, element);\n",
              "        const docLink = document.createElement('div');\n",
              "        docLink.innerHTML = docLinkHtml;\n",
              "        element.appendChild(docLink);\n",
              "      }\n",
              "    </script>\n",
              "  </div>\n",
              "\n",
              "\n",
              "    <div id=\"df-33e2667f-3a9d-411b-b9cb-a8229b5d8bdc\">\n",
              "      <button class=\"colab-df-quickchart\" onclick=\"quickchart('df-33e2667f-3a9d-411b-b9cb-a8229b5d8bdc')\"\n",
              "                title=\"Suggest charts\"\n",
              "                style=\"display:none;\">\n",
              "\n",
              "<svg xmlns=\"http://www.w3.org/2000/svg\" height=\"24px\"viewBox=\"0 0 24 24\"\n",
              "     width=\"24px\">\n",
              "    <g>\n",
              "        <path d=\"M19 3H5c-1.1 0-2 .9-2 2v14c0 1.1.9 2 2 2h14c1.1 0 2-.9 2-2V5c0-1.1-.9-2-2-2zM9 17H7v-7h2v7zm4 0h-2V7h2v10zm4 0h-2v-4h2v4z\"/>\n",
              "    </g>\n",
              "</svg>\n",
              "      </button>\n",
              "\n",
              "<style>\n",
              "  .colab-df-quickchart {\n",
              "      --bg-color: #E8F0FE;\n",
              "      --fill-color: #1967D2;\n",
              "      --hover-bg-color: #E2EBFA;\n",
              "      --hover-fill-color: #174EA6;\n",
              "      --disabled-fill-color: #AAA;\n",
              "      --disabled-bg-color: #DDD;\n",
              "  }\n",
              "\n",
              "  [theme=dark] .colab-df-quickchart {\n",
              "      --bg-color: #3B4455;\n",
              "      --fill-color: #D2E3FC;\n",
              "      --hover-bg-color: #434B5C;\n",
              "      --hover-fill-color: #FFFFFF;\n",
              "      --disabled-bg-color: #3B4455;\n",
              "      --disabled-fill-color: #666;\n",
              "  }\n",
              "\n",
              "  .colab-df-quickchart {\n",
              "    background-color: var(--bg-color);\n",
              "    border: none;\n",
              "    border-radius: 50%;\n",
              "    cursor: pointer;\n",
              "    display: none;\n",
              "    fill: var(--fill-color);\n",
              "    height: 32px;\n",
              "    padding: 0;\n",
              "    width: 32px;\n",
              "  }\n",
              "\n",
              "  .colab-df-quickchart:hover {\n",
              "    background-color: var(--hover-bg-color);\n",
              "    box-shadow: 0 1px 2px rgba(60, 64, 67, 0.3), 0 1px 3px 1px rgba(60, 64, 67, 0.15);\n",
              "    fill: var(--button-hover-fill-color);\n",
              "  }\n",
              "\n",
              "  .colab-df-quickchart-complete:disabled,\n",
              "  .colab-df-quickchart-complete:disabled:hover {\n",
              "    background-color: var(--disabled-bg-color);\n",
              "    fill: var(--disabled-fill-color);\n",
              "    box-shadow: none;\n",
              "  }\n",
              "\n",
              "  .colab-df-spinner {\n",
              "    border: 2px solid var(--fill-color);\n",
              "    border-color: transparent;\n",
              "    border-bottom-color: var(--fill-color);\n",
              "    animation:\n",
              "      spin 1s steps(1) infinite;\n",
              "  }\n",
              "\n",
              "  @keyframes spin {\n",
              "    0% {\n",
              "      border-color: transparent;\n",
              "      border-bottom-color: var(--fill-color);\n",
              "      border-left-color: var(--fill-color);\n",
              "    }\n",
              "    20% {\n",
              "      border-color: transparent;\n",
              "      border-left-color: var(--fill-color);\n",
              "      border-top-color: var(--fill-color);\n",
              "    }\n",
              "    30% {\n",
              "      border-color: transparent;\n",
              "      border-left-color: var(--fill-color);\n",
              "      border-top-color: var(--fill-color);\n",
              "      border-right-color: var(--fill-color);\n",
              "    }\n",
              "    40% {\n",
              "      border-color: transparent;\n",
              "      border-right-color: var(--fill-color);\n",
              "      border-top-color: var(--fill-color);\n",
              "    }\n",
              "    60% {\n",
              "      border-color: transparent;\n",
              "      border-right-color: var(--fill-color);\n",
              "    }\n",
              "    80% {\n",
              "      border-color: transparent;\n",
              "      border-right-color: var(--fill-color);\n",
              "      border-bottom-color: var(--fill-color);\n",
              "    }\n",
              "    90% {\n",
              "      border-color: transparent;\n",
              "      border-bottom-color: var(--fill-color);\n",
              "    }\n",
              "  }\n",
              "</style>\n",
              "\n",
              "      <script>\n",
              "        async function quickchart(key) {\n",
              "          const quickchartButtonEl =\n",
              "            document.querySelector('#' + key + ' button');\n",
              "          quickchartButtonEl.disabled = true;  // To prevent multiple clicks.\n",
              "          quickchartButtonEl.classList.add('colab-df-spinner');\n",
              "          try {\n",
              "            const charts = await google.colab.kernel.invokeFunction(\n",
              "                'suggestCharts', [key], {});\n",
              "          } catch (error) {\n",
              "            console.error('Error during call to suggestCharts:', error);\n",
              "          }\n",
              "          quickchartButtonEl.classList.remove('colab-df-spinner');\n",
              "          quickchartButtonEl.classList.add('colab-df-quickchart-complete');\n",
              "        }\n",
              "        (() => {\n",
              "          let quickchartButtonEl =\n",
              "            document.querySelector('#df-33e2667f-3a9d-411b-b9cb-a8229b5d8bdc button');\n",
              "          quickchartButtonEl.style.display =\n",
              "            google.colab.kernel.accessAllowed ? 'block' : 'none';\n",
              "        })();\n",
              "      </script>\n",
              "    </div>\n",
              "\n",
              "    </div>\n",
              "  </div>\n"
            ],
            "application/vnd.google.colaboratory.intrinsic+json": {
              "type": "dataframe",
              "variable_name": "df",
              "summary": "{\n  \"name\": \"df\",\n  \"rows\": 99,\n  \"fields\": [\n    {\n      \"column\": \"3.159499363321345566e-02\",\n      \"properties\": {\n        \"dtype\": \"number\",\n        \"std\": 0.8943130566096507,\n        \"min\": -1.318500344394381,\n        \"max\": 2.181371683049025,\n        \"num_unique_values\": 99,\n        \"samples\": [\n          0.1273314190904385,\n          0.6417403675063451,\n          0.21862323352500593\n        ],\n        \"semantic_type\": \"\",\n        \"description\": \"\"\n      }\n    },\n    {\n      \"column\": \"9.869877579082642072e-01\",\n      \"properties\": {\n        \"dtype\": \"number\",\n        \"std\": 0.5909086142970595,\n        \"min\": -1.0357020680498332,\n        \"max\": 1.5718993127141032,\n        \"num_unique_values\": 99,\n        \"samples\": [\n          -0.3796548967118949,\n          -0.39369468370639576,\n          -0.6525211867631453\n        ],\n        \"semantic_type\": \"\",\n        \"description\": \"\"\n      }\n    },\n    {\n      \"column\": \"0.000000000000000000e+00\",\n      \"properties\": {\n        \"dtype\": \"number\",\n        \"std\": 0.5025189076296059,\n        \"min\": 0.0,\n        \"max\": 1.0,\n        \"num_unique_values\": 2,\n        \"samples\": [\n          0.0,\n          1.0\n        ],\n        \"semantic_type\": \"\",\n        \"description\": \"\"\n      }\n    }\n  ]\n}"
            }
          },
          "metadata": {},
          "execution_count": 4
        }
      ]
    },
    {
      "cell_type": "code",
      "source": [
        "x = df.iloc[:,0]\n",
        "y = df.iloc[:, 1]\n",
        "clas = df.iloc[:,-1]"
      ],
      "metadata": {
        "id": "4DRtbwcNokm6"
      },
      "execution_count": 5,
      "outputs": []
    },
    {
      "cell_type": "code",
      "source": [
        "plt.scatter(x, y, c=clas)\n",
        "plt.show()"
      ],
      "metadata": {
        "colab": {
          "base_uri": "https://localhost:8080/",
          "height": 430
        },
        "id": "_1uwh37zpObv",
        "outputId": "1ded9c3e-3644-43a9-efc7-1dcfe495f14a"
      },
      "execution_count": 6,
      "outputs": [
        {
          "output_type": "display_data",
          "data": {
            "text/plain": [
              "<Figure size 640x480 with 1 Axes>"
            ],
            "image/png": "[encoded data removed]"
          },
          "metadata": {}
        }
      ]
    },
    {
      "cell_type": "code",
      "source": [
        "X = df.iloc[:, 0:2]\n",
        "y = df.iloc[:, -1]"
      ],
      "metadata": {
        "id": "GFHaoosVpTYD"
      },
      "execution_count": 7,
      "outputs": []
    },
    {
      "cell_type": "code",
      "source": [
        "X.shape"
      ],
      "metadata": {
        "colab": {
          "base_uri": "https://localhost:8080/"
        },
        "id": "bMrLSb9hp5YE",
        "outputId": "32018585-0486-4194-faed-eeb7037d305f"
      },
      "execution_count": 10,
      "outputs": [
        {
          "output_type": "execute_result",
          "data": {
            "text/plain": [
              "(99, 2)"
            ]
          },
          "metadata": {},
          "execution_count": 10
        }
      ]
    },
    {
      "cell_type": "code",
      "source": [
        "import tensorflow\n",
        "from tensorflow import keras\n",
        "from keras.models import Sequential\n",
        "from keras.layers import Dense"
      ],
      "metadata": {
        "id": "91rcm8obpgrt"
      },
      "execution_count": 8,
      "outputs": []
    },
    {
      "cell_type": "code",
      "source": [
        "model = Sequential()\n",
        "model.add(Dense(10, activation='tanh', input_dim=2))\n",
        "model.add(Dense(10, activation='tanh'))\n",
        "model.add(Dense(10, activation='tanh'))\n",
        "model.add(Dense(10, activation='tanh'))\n",
        "model.add(Dense(1, activation='sigmoid'))\n",
        "model.summary()"
      ],
      "metadata": {
        "colab": {
          "base_uri": "https://localhost:8080/",
          "height": 344
        },
        "id": "blG355IapshN",
        "outputId": "1f3974e9-ae8c-492b-e2df-18464d282e4a"
      },
      "execution_count": 11,
      "outputs": [
        {
          "output_type": "stream",
          "name": "stderr",
          "text": [
            "/usr/local/lib/python3.11/dist-packages/keras/src/layers/core/dense.py:93: UserWarning: Do not pass an `input_shape`/`input_dim` argument to a layer. When using Sequential models, prefer using an `Input(shape)` object as the first layer in the model instead.\n",
            "  super().__init__(activity_regularizer=activity_regularizer, **kwargs)\n"
          ]
        },
        {
          "output_type": "display_data",
          "data": {
            "text/plain": [
              "\u001b[1mModel: \"sequential_1\"\u001b[0m\n"
            ],
            "text/html": [
              "<pre style=\"white-space:pre;overflow-x:auto;line-height:normal;font-family:Menlo,'DejaVu Sans Mono',consolas,'Courier New',monospace\"><span style=\"font-weight: bold\">Model: \"sequential_1\"</span>\n",
              "</pre>\n"
            ]
          },
          "metadata": {}
        },
        {
          "output_type": "display_data",
          "data": {
            "text/plain": [
              "┏━━━━━━━━━━━━━━━━━━━━━━━━━━━━━━━━━┳━━━━━━━━━━━━━━━━━━━━━━━━┳━━━━━━━━━━━━━━━┓\n",
              "┃\u001b[1m \u001b[0m\u001b[1mLayer (type)                   \u001b[0m\u001b[1m \u001b[0m┃\u001b[1m \u001b[0m\u001b[1mOutput Shape          \u001b[0m\u001b[1m \u001b[0m┃\u001b[1m \u001b[0m\u001b[1m      Param #\u001b[0m\u001b[1m \u001b[0m┃\n",
              "┡━━━━━━━━━━━━━━━━━━━━━━━━━━━━━━━━━╇━━━━━━━━━━━━━━━━━━━━━━━━╇━━━━━━━━━━━━━━━┩\n",
              "│ dense (\u001b[38;5;33mDense\u001b[0m)                   │ (\u001b[38;5;45mNone\u001b[0m, \u001b[38;5;34m10\u001b[0m)             │            \u001b[38;5;34m30\u001b[0m │\n",
              "├─────────────────────────────────┼────────────────────────┼───────────────┤\n",
              "│ dense_1 (\u001b[38;5;33mDense\u001b[0m)                 │ (\u001b[38;5;45mNone\u001b[0m, \u001b[38;5;34m10\u001b[0m)             │           \u001b[38;5;34m110\u001b[0m │\n",
              "├─────────────────────────────────┼────────────────────────┼───────────────┤\n",
              "│ dense_2 (\u001b[38;5;33mDense\u001b[0m)                 │ (\u001b[38;5;45mNone\u001b[0m, \u001b[38;5;34m10\u001b[0m)             │           \u001b[38;5;34m110\u001b[0m │\n",
              "├─────────────────────────────────┼────────────────────────┼───────────────┤\n",
              "│ dense_3 (\u001b[38;5;33mDense\u001b[0m)                 │ (\u001b[38;5;45mNone\u001b[0m, \u001b[38;5;34m10\u001b[0m)             │           \u001b[38;5;34m110\u001b[0m │\n",
              "├─────────────────────────────────┼────────────────────────┼───────────────┤\n",
              "│ dense_4 (\u001b[38;5;33mDense\u001b[0m)                 │ (\u001b[38;5;45mNone\u001b[0m, \u001b[38;5;34m1\u001b[0m)              │            \u001b[38;5;34m11\u001b[0m │\n",
              "└─────────────────────────────────┴────────────────────────┴───────────────┘\n"
            ],
            "text/html": [
              "<pre style=\"white-space:pre;overflow-x:auto;line-height:normal;font-family:Menlo,'DejaVu Sans Mono',consolas,'Courier New',monospace\">┏━━━━━━━━━━━━━━━━━━━━━━━━━━━━━━━━━┳━━━━━━━━━━━━━━━━━━━━━━━━┳━━━━━━━━━━━━━━━┓\n",
              "┃<span style=\"font-weight: bold\"> Layer (type)                    </span>┃<span style=\"font-weight: bold\"> Output Shape           </span>┃<span style=\"font-weight: bold\">       Param # </span>┃\n",
              "┡━━━━━━━━━━━━━━━━━━━━━━━━━━━━━━━━━╇━━━━━━━━━━━━━━━━━━━━━━━━╇━━━━━━━━━━━━━━━┩\n",
              "│ dense (<span style=\"color: #0087ff; text-decoration-color: #0087ff\">Dense</span>)                   │ (<span style=\"color: #00d7ff; text-decoration-color: #00d7ff\">None</span>, <span style=\"color: #00af00; text-decoration-color: #00af00\">10</span>)             │            <span style=\"color: #00af00; text-decoration-color: #00af00\">30</span> │\n",
              "├─────────────────────────────────┼────────────────────────┼───────────────┤\n",
              "│ dense_1 (<span style=\"color: #0087ff; text-decoration-color: #0087ff\">Dense</span>)                 │ (<span style=\"color: #00d7ff; text-decoration-color: #00d7ff\">None</span>, <span style=\"color: #00af00; text-decoration-color: #00af00\">10</span>)             │           <span style=\"color: #00af00; text-decoration-color: #00af00\">110</span> │\n",
              "├─────────────────────────────────┼────────────────────────┼───────────────┤\n",
              "│ dense_2 (<span style=\"color: #0087ff; text-decoration-color: #0087ff\">Dense</span>)                 │ (<span style=\"color: #00d7ff; text-decoration-color: #00d7ff\">None</span>, <span style=\"color: #00af00; text-decoration-color: #00af00\">10</span>)             │           <span style=\"color: #00af00; text-decoration-color: #00af00\">110</span> │\n",
              "├─────────────────────────────────┼────────────────────────┼───────────────┤\n",
              "│ dense_3 (<span style=\"color: #0087ff; text-decoration-color: #0087ff\">Dense</span>)                 │ (<span style=\"color: #00d7ff; text-decoration-color: #00d7ff\">None</span>, <span style=\"color: #00af00; text-decoration-color: #00af00\">10</span>)             │           <span style=\"color: #00af00; text-decoration-color: #00af00\">110</span> │\n",
              "├─────────────────────────────────┼────────────────────────┼───────────────┤\n",
              "│ dense_4 (<span style=\"color: #0087ff; text-decoration-color: #0087ff\">Dense</span>)                 │ (<span style=\"color: #00d7ff; text-decoration-color: #00d7ff\">None</span>, <span style=\"color: #00af00; text-decoration-color: #00af00\">1</span>)              │            <span style=\"color: #00af00; text-decoration-color: #00af00\">11</span> │\n",
              "└─────────────────────────────────┴────────────────────────┴───────────────┘\n",
              "</pre>\n"
            ]
          },
          "metadata": {}
        },
        {
          "output_type": "display_data",
          "data": {
            "text/plain": [
              "\u001b[1m Total params: \u001b[0m\u001b[38;5;34m371\u001b[0m (1.45 KB)\n"
            ],
            "text/html": [
              "<pre style=\"white-space:pre;overflow-x:auto;line-height:normal;font-family:Menlo,'DejaVu Sans Mono',consolas,'Courier New',monospace\"><span style=\"font-weight: bold\"> Total params: </span><span style=\"color: #00af00; text-decoration-color: #00af00\">371</span> (1.45 KB)\n",
              "</pre>\n"
            ]
          },
          "metadata": {}
        },
        {
          "output_type": "display_data",
          "data": {
            "text/plain": [
              "\u001b[1m Trainable params: \u001b[0m\u001b[38;5;34m371\u001b[0m (1.45 KB)\n"
            ],
            "text/html": [
              "<pre style=\"white-space:pre;overflow-x:auto;line-height:normal;font-family:Menlo,'DejaVu Sans Mono',consolas,'Courier New',monospace\"><span style=\"font-weight: bold\"> Trainable params: </span><span style=\"color: #00af00; text-decoration-color: #00af00\">371</span> (1.45 KB)\n",
              "</pre>\n"
            ]
          },
          "metadata": {}
        },
        {
          "output_type": "display_data",
          "data": {
            "text/plain": [
              "\u001b[1m Non-trainable params: \u001b[0m\u001b[38;5;34m0\u001b[0m (0.00 B)\n"
            ],
            "text/html": [
              "<pre style=\"white-space:pre;overflow-x:auto;line-height:normal;font-family:Menlo,'DejaVu Sans Mono',consolas,'Courier New',monospace\"><span style=\"font-weight: bold\"> Non-trainable params: </span><span style=\"color: #00af00; text-decoration-color: #00af00\">0</span> (0.00 B)\n",
              "</pre>\n"
            ]
          },
          "metadata": {}
        }
      ]
    },
    {
      "cell_type": "code",
      "source": [
        "model.get_weights()"
      ],
      "metadata": {
        "colab": {
          "base_uri": "https://localhost:8080/"
        },
        "id": "Iq24zLgupuWF",
        "outputId": "99478788-9011-4402-a48c-81b0d5d4b17f"
      },
      "execution_count": 12,
      "outputs": [
        {
          "output_type": "execute_result",
          "data": {
            "text/plain": [
              "[array([[-0.41892466,  0.6741906 , -0.0033316 ,  0.5796127 , -0.07644057,\n",
              "         -0.37164417,  0.0147391 ,  0.2797497 , -0.3041116 , -0.10193348],\n",
              "        [-0.15955567,  0.703077  , -0.529637  , -0.5267769 , -0.6748339 ,\n",
              "          0.21049029, -0.5546795 ,  0.03364903,  0.38911456,  0.1070019 ]],\n",
              "       dtype=float32),\n",
              " array([0., 0., 0., 0., 0., 0., 0., 0., 0., 0.], dtype=float32),\n",
              " array([[-0.27163348,  0.5240799 ,  0.32369745,  0.08438456, -0.33268052,\n",
              "         -0.5040742 ,  0.40299273, -0.49067593,  0.1842193 , -0.17290574],\n",
              "        [ 0.53239274, -0.26972675,  0.28263438,  0.12222707,  0.02349538,\n",
              "          0.36157453,  0.305457  , -0.3142416 ,  0.0801158 ,  0.42319888],\n",
              "        [-0.18867218,  0.0333823 ,  0.50062406,  0.3333425 , -0.51164013,\n",
              "          0.20026809, -0.14201936,  0.37496078, -0.23364407,  0.5029795 ],\n",
              "        [-0.08678383, -0.522952  ,  0.50648534, -0.39750272, -0.05960956,\n",
              "         -0.16617382, -0.26410407, -0.14991441,  0.2550664 , -0.3788913 ],\n",
              "        [ 0.1814071 ,  0.43796098, -0.40103263,  0.23209268, -0.46691716,\n",
              "          0.22103691, -0.256641  , -0.5412413 , -0.14043012,  0.1182307 ],\n",
              "        [-0.03233731, -0.48303777, -0.32703158,  0.22686297, -0.38542053,\n",
              "         -0.45935276, -0.4346438 ,  0.48548293, -0.11706558, -0.04891786],\n",
              "        [-0.4264124 , -0.35559857, -0.16227776,  0.32080334, -0.00940031,\n",
              "          0.4319361 ,  0.2896924 , -0.17431372,  0.11185449,  0.36408508],\n",
              "        [ 0.0098865 , -0.50789165, -0.4624751 ,  0.4839803 , -0.33262217,\n",
              "          0.1720193 ,  0.45349956, -0.18194577,  0.05040538,  0.13644588],\n",
              "        [-0.3355712 ,  0.23418224, -0.14474484,  0.20468557, -0.4241851 ,\n",
              "         -0.44505423,  0.35418797, -0.3642658 ,  0.35390615, -0.24087834],\n",
              "        [-0.10928521, -0.11030611,  0.23229694,  0.46314085, -0.25086057,\n",
              "         -0.14525977,  0.4678167 ,  0.00775677, -0.00498426,  0.12768757]],\n",
              "       dtype=float32),\n",
              " array([0., 0., 0., 0., 0., 0., 0., 0., 0., 0.], dtype=float32),\n",
              " array([[-0.22787198,  0.40711188,  0.37589365, -0.18931949,  0.39115185,\n",
              "          0.13906991, -0.08755168,  0.46624577,  0.34200108, -0.4917807 ],\n",
              "        [-0.54757357,  0.16558838, -0.21786168,  0.34454817, -0.22342628,\n",
              "          0.20208192, -0.21081859, -0.44871682,  0.05943221, -0.28338176],\n",
              "        [ 0.43227446, -0.271929  ,  0.5466019 , -0.4800682 ,  0.13787293,\n",
              "          0.2742579 , -0.22194007,  0.25702322,  0.34427446,  0.26520336],\n",
              "        [-0.0225541 , -0.46247014,  0.01146752, -0.5122534 , -0.12157255,\n",
              "          0.0182485 , -0.45572323, -0.05987543, -0.08911455, -0.0305348 ],\n",
              "        [ 0.2769903 , -0.37703696, -0.08295789, -0.49627984,  0.16090006,\n",
              "          0.45428157,  0.05738854, -0.51459235, -0.17926142, -0.05654389],\n",
              "        [ 0.5422987 ,  0.5018741 ,  0.06240165,  0.16397542,  0.07466286,\n",
              "         -0.10376617,  0.53955805,  0.07677889, -0.4495331 , -0.54058313],\n",
              "        [ 0.13565534,  0.53522456,  0.4267754 ,  0.01703626,  0.1787414 ,\n",
              "          0.38995945,  0.33346355, -0.10234931,  0.24974757, -0.3083827 ],\n",
              "        [ 0.3017776 ,  0.04487419,  0.40232098, -0.3507718 , -0.20903203,\n",
              "          0.16789901,  0.43886608, -0.3735127 , -0.395347  ,  0.33743405],\n",
              "        [ 0.42703426, -0.40691805, -0.04617852, -0.20224097, -0.5466063 ,\n",
              "         -0.3787381 ,  0.53278494,  0.3501672 , -0.1183162 , -0.31061155],\n",
              "        [ 0.18239146,  0.54052174,  0.298392  , -0.50834674, -0.38052443,\n",
              "          0.448134  , -0.03104907,  0.164428  , -0.4859948 , -0.34399462]],\n",
              "       dtype=float32),\n",
              " array([0., 0., 0., 0., 0., 0., 0., 0., 0., 0.], dtype=float32),\n",
              " array([[-0.41888717,  0.24949932, -0.25961134,  0.3944646 ,  0.50569737,\n",
              "         -0.1497876 , -0.5299854 , -0.32670733,  0.2526825 ,  0.49038482],\n",
              "        [-0.08752283, -0.27937508,  0.46471608,  0.24921894,  0.50195336,\n",
              "          0.3852104 , -0.06929728,  0.49700665, -0.15071556, -0.3467009 ],\n",
              "        [ 0.10710037,  0.28358638,  0.47761428,  0.13441408,  0.01621425,\n",
              "         -0.11941379,  0.40318954, -0.3213803 ,  0.5303011 ,  0.13454562],\n",
              "        [-0.48807424,  0.07822138, -0.14278749, -0.03939074,  0.03746969,\n",
              "         -0.4168726 , -0.0628438 , -0.27797177,  0.17691725, -0.37568915],\n",
              "        [ 0.04346794, -0.16594568, -0.13079801, -0.02572793,  0.06473053,\n",
              "         -0.35390696,  0.00067812,  0.01892978,  0.10845912,  0.4958502 ],\n",
              "        [-0.39061987,  0.08907902,  0.28590798, -0.05574468, -0.20720094,\n",
              "         -0.3312835 , -0.16015965,  0.0624485 , -0.05718702,  0.05090147],\n",
              "        [-0.09083217, -0.00155854, -0.3322531 ,  0.30979627,  0.51199496,\n",
              "          0.11285299,  0.5319402 ,  0.00735861,  0.03075039, -0.5205825 ],\n",
              "        [ 0.35784936, -0.3213889 , -0.28351495,  0.36503732, -0.03395623,\n",
              "         -0.4333032 ,  0.45505416, -0.34449762, -0.072878  , -0.14106569],\n",
              "        [ 0.12828326,  0.42175186,  0.00599748, -0.32359257,  0.281287  ,\n",
              "         -0.2313272 , -0.35125118, -0.04493833,  0.12373269,  0.473714  ],\n",
              "        [ 0.01066691, -0.40357712,  0.4652338 ,  0.10903186, -0.47097397,\n",
              "          0.33023983, -0.12786332, -0.49215275,  0.24779803,  0.36766106]],\n",
              "       dtype=float32),\n",
              " array([0., 0., 0., 0., 0., 0., 0., 0., 0., 0.], dtype=float32),\n",
              " array([[ 0.7364556 ],\n",
              "        [-0.21211302],\n",
              "        [-0.09833449],\n",
              "        [ 0.18571311],\n",
              "        [-0.33613884],\n",
              "        [ 0.5569064 ],\n",
              "        [-0.27397668],\n",
              "        [-0.19747055],\n",
              "        [ 0.39194757],\n",
              "        [ 0.66462857]], dtype=float32),\n",
              " array([0.], dtype=float32)]"
            ]
          },
          "metadata": {},
          "execution_count": 12
        }
      ]
    },
    {
      "cell_type": "code",
      "source": [
        "initial_weights = model.get_weights()"
      ],
      "metadata": {
        "id": "IqvYg7_lrmha"
      },
      "execution_count": 14,
      "outputs": []
    },
    {
      "cell_type": "code",
      "source": [
        "initial_weights[0] = np.random.randn(2, 10)*np.sqrt(1/2)\n",
        "initial_weights[1] = np.zeros(model.get_weights()[1].shape)\n",
        "initial_weights[2] = np.random.randn(10, 10)*np.sqrt(1/10)\n",
        "initial_weights[3] = np.zeros(model.get_weights()[3].shape)\n",
        "initial_weights[4]= np.random.randn(10, 10)*np.sqrt(1/10)\n",
        "initial_weights[5] = np.zeros(model.get_weights()[5].shape)\n",
        "initial_weights[6] = np.random.randn(10, 10)*np.sqrt(1/10)\n",
        "initial_weights[7] = np.zeros(model.get_weights()[7].shape)\n",
        "initial_weights[8] = np.random.randn(10, 1)*np.sqrt(1/10)\n",
        "initial_weights[9] = np.zeros(model.get_weights()[9].shape)"
      ],
      "metadata": {
        "id": "vIUDtsapqSDf"
      },
      "execution_count": 19,
      "outputs": []
    },
    {
      "cell_type": "code",
      "source": [
        "model.set_weights(initial_weights)"
      ],
      "metadata": {
        "id": "7YNUrSxZrW-V"
      },
      "execution_count": 20,
      "outputs": []
    },
    {
      "cell_type": "code",
      "source": [
        "model.get_weights()"
      ],
      "metadata": {
        "colab": {
          "base_uri": "https://localhost:8080/"
        },
        "id": "fnPh1Z5lr3Xa",
        "outputId": "a0664b08-4a4e-4989-a144-400c2310dc8e"
      },
      "execution_count": 21,
      "outputs": [
        {
          "output_type": "execute_result",
          "data": {
            "text/plain": [
              "[array([[-0.16457872, -0.03748699,  0.48881078, -0.68262947,  0.14107029,\n",
              "          1.2911904 , -0.58853126, -0.45324033,  1.0012312 ,  0.5455562 ],\n",
              "        [-0.34733966,  0.33622372, -1.993645  , -0.75479054, -0.61977863,\n",
              "         -0.23666474,  0.06061546,  0.7921977 ,  0.00724765,  0.8812621 ]],\n",
              "       dtype=float32),\n",
              " array([0., 0., 0., 0., 0., 0., 0., 0., 0., 0.], dtype=float32),\n",
              " array([[-0.0302877 , -0.23377211,  0.06940524,  0.36481217,  0.35444635,\n",
              "          0.12908217, -0.01195799,  0.40850803,  0.37035725, -0.10083003],\n",
              "        [-0.04041336,  0.46128458, -0.6448065 ,  0.16725162,  0.05278204,\n",
              "          0.2932656 ,  0.27921787,  0.10271747, -0.24176747, -0.24662231],\n",
              "        [-0.46635512,  0.41123313,  0.01253071,  0.47807553,  0.6424833 ,\n",
              "         -0.4733669 , -0.16487794, -0.5029955 ,  0.06524945, -0.04371615],\n",
              "        [ 0.41245878, -0.24111068,  0.34113193,  0.11896732,  0.06359027,\n",
              "         -0.18496844, -0.77542204,  0.02915317, -0.6686964 , -0.03266498],\n",
              "        [-0.5118132 , -0.03650178, -0.55798435, -0.30460566,  0.45235297,\n",
              "         -0.18510257, -0.23058368,  0.7735246 , -0.06556603, -0.4830709 ],\n",
              "        [ 0.22697695,  0.44732532, -0.3009541 , -0.22471878,  0.33299488,\n",
              "          0.10081398,  0.70480037, -0.23081474,  0.34648636,  0.06109006],\n",
              "        [ 0.1876447 ,  0.03006129, -0.07958481,  0.12038686, -0.10320919,\n",
              "          0.13103215, -0.36321443,  0.535368  ,  0.49515814, -0.6269791 ],\n",
              "        [ 0.02361855,  0.5116756 , -0.17294188,  0.02152857,  0.13028038,\n",
              "         -0.2776793 , -0.6129267 , -0.3024209 ,  0.06016932,  0.1544629 ],\n",
              "        [-0.0289329 , -0.04900082, -0.12794788,  0.2046578 ,  0.22155556,\n",
              "          0.19025625, -0.26184762,  0.22483265,  0.07324772, -0.3685247 ],\n",
              "        [ 0.09457796,  0.0853487 , -0.0749872 ,  0.52330214,  0.11632185,\n",
              "         -0.4088479 , -0.02574415,  0.2612286 ,  0.53327423, -0.11401203]],\n",
              "       dtype=float32),\n",
              " array([0., 0., 0., 0., 0., 0., 0., 0., 0., 0.], dtype=float32),\n",
              " array([[-0.5046122 , -0.48273644, -0.20145608,  0.0705481 , -0.29455647,\n",
              "          0.19285253,  0.01698821,  0.36086714, -0.01309887,  0.28322715],\n",
              "        [-0.49287513, -0.23872069,  0.05405886,  0.28831664,  0.12309042,\n",
              "          0.13574015,  0.15251368, -0.12540027, -0.19469203, -0.5535097 ],\n",
              "        [-0.33869922, -0.39019424,  0.24192601,  0.21221495,  0.28623685,\n",
              "          0.09934911, -0.08817922,  0.12207925,  0.2261383 , -0.5768301 ],\n",
              "        [ 0.53046995,  0.44825196,  0.40047342,  0.52315813,  0.59223413,\n",
              "          0.05173726,  0.05519028,  0.11921661, -0.09336015, -0.11505875],\n",
              "        [-0.03325979,  0.16727862,  0.29704052,  0.24215052, -0.11275921,\n",
              "         -1.2485358 ,  0.07952373,  0.12245752, -0.13533105, -0.2642723 ],\n",
              "        [ 0.04793201, -0.13084173,  0.21590082, -0.14739102, -0.14014316,\n",
              "         -0.6049963 , -0.16128786, -0.04280856,  0.34684062, -0.19667412],\n",
              "        [-0.3500628 ,  0.04965273, -0.54497993, -0.19172573, -0.5503889 ,\n",
              "         -0.3574031 ,  0.42302793, -0.7929471 ,  0.11711703, -0.09473237],\n",
              "        [-0.21821095,  0.76855797, -0.4921088 , -0.58361757,  0.00653326,\n",
              "          0.43169454,  0.1809028 ,  0.05107222,  0.2738477 , -0.19501722],\n",
              "        [ 0.0734463 ,  0.01620116,  0.53745335, -0.23359813, -0.38727158,\n",
              "          0.1639911 , -0.06975033,  0.05752308, -0.07597286,  0.01415305],\n",
              "        [ 0.28820065,  0.16148542, -0.23833448, -0.08953264, -0.26039657,\n",
              "         -0.11328977,  0.28511545, -0.23636241,  0.45581597,  0.18628669]],\n",
              "       dtype=float32),\n",
              " array([0., 0., 0., 0., 0., 0., 0., 0., 0., 0.], dtype=float32),\n",
              " array([[ 0.48443964, -0.3910897 ,  0.24940147, -0.02955986, -0.11782788,\n",
              "         -0.73205197,  0.12086207,  0.46377966, -0.22603936,  0.3713499 ],\n",
              "        [ 0.19357105,  0.42346543,  0.43124732, -0.2414678 ,  0.17975074,\n",
              "          0.11487386, -0.20982434, -0.44628823,  0.00919002,  0.53253907],\n",
              "        [-0.5286329 ,  0.08159959, -0.03023452, -0.15735132, -0.05833919,\n",
              "         -0.4358908 , -0.28343958, -0.03555818, -0.22287792,  0.32427645],\n",
              "        [ 0.23224172, -0.3319874 ,  0.18760519, -0.08007903,  0.3049574 ,\n",
              "         -0.44997615,  0.55792797, -0.32387787, -0.40508467,  0.27844626],\n",
              "        [ 0.16430584,  0.70152825, -0.6024692 ,  0.0678299 ,  0.33204615,\n",
              "         -0.28849074, -0.2236566 , -0.3108148 , -0.00766766, -0.08021522],\n",
              "        [ 0.0154666 , -0.1562054 ,  0.75462437,  0.46216586,  0.03495437,\n",
              "          0.69387054,  0.11898974, -0.08081432, -0.35190767,  0.33852834],\n",
              "        [-0.05815487,  0.3877583 ,  0.02318252, -0.61734307, -0.00095056,\n",
              "         -0.32661584,  0.21281107,  0.0079148 , -0.2948506 , -0.1229559 ],\n",
              "        [ 0.10566265, -0.42483288, -0.30546114, -0.30431816, -0.8793752 ,\n",
              "         -0.00784903,  0.48955557,  0.3970402 , -0.1159296 , -0.23169833],\n",
              "        [-0.15625325,  0.15115069,  0.29199165, -0.30505565,  0.23151775,\n",
              "         -0.00608362,  0.11163627, -0.78040814,  0.00702615,  0.21610147],\n",
              "        [-0.19716147,  0.5647525 , -0.11368904,  0.5450101 ,  0.46448427,\n",
              "          0.02416655, -0.15392137, -0.6410887 , -0.35424986,  0.09869187]],\n",
              "       dtype=float32),\n",
              " array([0., 0., 0., 0., 0., 0., 0., 0., 0., 0.], dtype=float32),\n",
              " array([[-0.04708863],\n",
              "        [ 0.14411569],\n",
              "        [-0.20923983],\n",
              "        [-0.35522065],\n",
              "        [ 0.13341546],\n",
              "        [ 0.3810771 ],\n",
              "        [-0.02233338],\n",
              "        [-0.33629277],\n",
              "        [-0.0770151 ],\n",
              "        [-0.03347875]], dtype=float32),\n",
              " array([0.], dtype=float32)]"
            ]
          },
          "metadata": {},
          "execution_count": 21
        }
      ]
    },
    {
      "cell_type": "code",
      "source": [
        "model.compile(loss='binary_crossentropy', optimizer='adam', metrics=['accuracy'])\n",
        "history = model.fit(X, y, epochs=100, validation_split = 0.2)"
      ],
      "metadata": {
        "colab": {
          "base_uri": "https://localhost:8080/"
        },
        "id": "jh-309izsyxl",
        "outputId": "63be35a8-ace2-42ba-8538-9d10dba08292"
      },
      "execution_count": 23,
      "outputs": [
        {
          "output_type": "stream",
          "name": "stdout",
          "text": [
            "Epoch 1/100\n",
            "\u001b[1m3/3\u001b[0m \u001b[32m━━━━━━━━━━━━━━━━━━━━\u001b[0m\u001b[37m\u001b[0m \u001b[1m3s\u001b[0m 183ms/step - accuracy: 0.1252 - loss: 0.7312 - val_accuracy: 0.2000 - val_loss: 0.7090\n",
            "Epoch 2/100\n",
            "\u001b[1m3/3\u001b[0m \u001b[32m━━━━━━━━━━━━━━━━━━━━\u001b[0m\u001b[37m\u001b[0m \u001b[1m0s\u001b[0m 45ms/step - accuracy: 0.2910 - loss: 0.7142 - val_accuracy: 0.6000 - val_loss: 0.6937\n",
            "Epoch 3/100\n",
            "\u001b[1m3/3\u001b[0m \u001b[32m━━━━━━━━━━━━━━━━━━━━\u001b[0m\u001b[37m\u001b[0m \u001b[1m0s\u001b[0m 46ms/step - accuracy: 0.4563 - loss: 0.7066 - val_accuracy: 0.8500 - val_loss: 0.6788\n",
            "Epoch 4/100\n",
            "\u001b[1m3/3\u001b[0m \u001b[32m━━━━━━━━━━━━━━━━━━━━\u001b[0m\u001b[37m\u001b[0m \u001b[1m0s\u001b[0m 46ms/step - accuracy: 0.6626 - loss: 0.6898 - val_accuracy: 0.8500 - val_loss: 0.6640\n",
            "Epoch 5/100\n",
            "\u001b[1m3/3\u001b[0m \u001b[32m━━━━━━━━━━━━━━━━━━━━\u001b[0m\u001b[37m\u001b[0m \u001b[1m0s\u001b[0m 45ms/step - accuracy: 0.6894 - loss: 0.6778 - val_accuracy: 0.8500 - val_loss: 0.6498\n",
            "Epoch 6/100\n",
            "\u001b[1m3/3\u001b[0m \u001b[32m━━━━━━━━━━━━━━━━━━━━\u001b[0m\u001b[37m\u001b[0m \u001b[1m0s\u001b[0m 46ms/step - accuracy: 0.6870 - loss: 0.6664 - val_accuracy: 0.8500 - val_loss: 0.6359\n",
            "Epoch 7/100\n",
            "\u001b[1m3/3\u001b[0m \u001b[32m━━━━━━━━━━━━━━━━━━━━\u001b[0m\u001b[37m\u001b[0m \u001b[1m0s\u001b[0m 55ms/step - accuracy: 0.7255 - loss: 0.6566 - val_accuracy: 0.8500 - val_loss: 0.6228\n",
            "Epoch 8/100\n",
            "\u001b[1m3/3\u001b[0m \u001b[32m━━━━━━━━━━━━━━━━━━━━\u001b[0m\u001b[37m\u001b[0m \u001b[1m0s\u001b[0m 46ms/step - accuracy: 0.6850 - loss: 0.6507 - val_accuracy: 0.8500 - val_loss: 0.6101\n",
            "Epoch 9/100\n",
            "\u001b[1m3/3\u001b[0m \u001b[32m━━━━━━━━━━━━━━━━━━━━\u001b[0m\u001b[37m\u001b[0m \u001b[1m0s\u001b[0m 43ms/step - accuracy: 0.7382 - loss: 0.6356 - val_accuracy: 0.8500 - val_loss: 0.5973\n",
            "Epoch 10/100\n",
            "\u001b[1m3/3\u001b[0m \u001b[32m━━━━━━━━━━━━━━━━━━━━\u001b[0m\u001b[37m\u001b[0m \u001b[1m0s\u001b[0m 46ms/step - accuracy: 0.7884 - loss: 0.6212 - val_accuracy: 0.8500 - val_loss: 0.5850\n",
            "Epoch 11/100\n",
            "\u001b[1m3/3\u001b[0m \u001b[32m━━━━━━━━━━━━━━━━━━━━\u001b[0m\u001b[37m\u001b[0m \u001b[1m0s\u001b[0m 44ms/step - accuracy: 0.7845 - loss: 0.6125 - val_accuracy: 0.8500 - val_loss: 0.5728\n",
            "Epoch 12/100\n",
            "\u001b[1m3/3\u001b[0m \u001b[32m━━━━━━━━━━━━━━━━━━━━\u001b[0m\u001b[37m\u001b[0m \u001b[1m0s\u001b[0m 45ms/step - accuracy: 0.7635 - loss: 0.6064 - val_accuracy: 0.8500 - val_loss: 0.5609\n",
            "Epoch 13/100\n",
            "\u001b[1m3/3\u001b[0m \u001b[32m━━━━━━━━━━━━━━━━━━━━\u001b[0m\u001b[37m\u001b[0m \u001b[1m0s\u001b[0m 48ms/step - accuracy: 0.7752 - loss: 0.5917 - val_accuracy: 0.8500 - val_loss: 0.5491\n",
            "Epoch 14/100\n",
            "\u001b[1m3/3\u001b[0m \u001b[32m━━━━━━━━━━━━━━━━━━━━\u001b[0m\u001b[37m\u001b[0m \u001b[1m0s\u001b[0m 47ms/step - accuracy: 0.7869 - loss: 0.5831 - val_accuracy: 0.8500 - val_loss: 0.5376\n",
            "Epoch 15/100\n",
            "\u001b[1m3/3\u001b[0m \u001b[32m━━━━━━━━━━━━━━━━━━━━\u001b[0m\u001b[37m\u001b[0m \u001b[1m0s\u001b[0m 52ms/step - accuracy: 0.8128 - loss: 0.5673 - val_accuracy: 0.9000 - val_loss: 0.5265\n",
            "Epoch 16/100\n",
            "\u001b[1m3/3\u001b[0m \u001b[32m━━━━━━━━━━━━━━━━━━━━\u001b[0m\u001b[37m\u001b[0m \u001b[1m0s\u001b[0m 47ms/step - accuracy: 0.7894 - loss: 0.5697 - val_accuracy: 0.9000 - val_loss: 0.5159\n",
            "Epoch 17/100\n",
            "\u001b[1m3/3\u001b[0m \u001b[32m━━━━━━━━━━━━━━━━━━━━\u001b[0m\u001b[37m\u001b[0m \u001b[1m0s\u001b[0m 44ms/step - accuracy: 0.8137 - loss: 0.5590 - val_accuracy: 0.9000 - val_loss: 0.5052\n",
            "Epoch 18/100\n",
            "\u001b[1m3/3\u001b[0m \u001b[32m━━━━━━━━━━━━━━━━━━━━\u001b[0m\u001b[37m\u001b[0m \u001b[1m0s\u001b[0m 47ms/step - accuracy: 0.8333 - loss: 0.5458 - val_accuracy: 0.9000 - val_loss: 0.4945\n",
            "Epoch 19/100\n",
            "\u001b[1m3/3\u001b[0m \u001b[32m━━━━━━━━━━━━━━━━━━━━\u001b[0m\u001b[37m\u001b[0m \u001b[1m0s\u001b[0m 49ms/step - accuracy: 0.8020 - loss: 0.5471 - val_accuracy: 0.9000 - val_loss: 0.4843\n",
            "Epoch 20/100\n",
            "\u001b[1m3/3\u001b[0m \u001b[32m━━━━━━━━━━━━━━━━━━━━\u001b[0m\u001b[37m\u001b[0m \u001b[1m0s\u001b[0m 46ms/step - accuracy: 0.8372 - loss: 0.5222 - val_accuracy: 0.9000 - val_loss: 0.4742\n",
            "Epoch 21/100\n",
            "\u001b[1m3/3\u001b[0m \u001b[32m━━━━━━━━━━━━━━━━━━━━\u001b[0m\u001b[37m\u001b[0m \u001b[1m0s\u001b[0m 52ms/step - accuracy: 0.8435 - loss: 0.5185 - val_accuracy: 0.9000 - val_loss: 0.4644\n",
            "Epoch 22/100\n",
            "\u001b[1m3/3\u001b[0m \u001b[32m━━━━━━━━━━━━━━━━━━━━\u001b[0m\u001b[37m\u001b[0m \u001b[1m0s\u001b[0m 47ms/step - accuracy: 0.8201 - loss: 0.5238 - val_accuracy: 0.9000 - val_loss: 0.4549\n",
            "Epoch 23/100\n",
            "\u001b[1m3/3\u001b[0m \u001b[32m━━━━━━━━━━━━━━━━━━━━\u001b[0m\u001b[37m\u001b[0m \u001b[1m0s\u001b[0m 48ms/step - accuracy: 0.8240 - loss: 0.5210 - val_accuracy: 0.9000 - val_loss: 0.4454\n",
            "Epoch 24/100\n",
            "\u001b[1m3/3\u001b[0m \u001b[32m━━━━━━━━━━━━━━━━━━━━\u001b[0m\u001b[37m\u001b[0m \u001b[1m0s\u001b[0m 45ms/step - accuracy: 0.8123 - loss: 0.5184 - val_accuracy: 0.9000 - val_loss: 0.4362\n",
            "Epoch 25/100\n",
            "\u001b[1m3/3\u001b[0m \u001b[32m━━━━━━━━━━━━━━━━━━━━\u001b[0m\u001b[37m\u001b[0m \u001b[1m0s\u001b[0m 60ms/step - accuracy: 0.8537 - loss: 0.4832 - val_accuracy: 0.9000 - val_loss: 0.4271\n",
            "Epoch 26/100\n",
            "\u001b[1m3/3\u001b[0m \u001b[32m━━━━━━━━━━━━━━━━━━━━\u001b[0m\u001b[37m\u001b[0m \u001b[1m0s\u001b[0m 51ms/step - accuracy: 0.8083 - loss: 0.4990 - val_accuracy: 0.9000 - val_loss: 0.4193\n",
            "Epoch 27/100\n",
            "\u001b[1m3/3\u001b[0m \u001b[32m━━━━━━━━━━━━━━━━━━━━\u001b[0m\u001b[37m\u001b[0m \u001b[1m0s\u001b[0m 82ms/step - accuracy: 0.8201 - loss: 0.4795 - val_accuracy: 0.9000 - val_loss: 0.4111\n",
            "Epoch 28/100\n",
            "\u001b[1m3/3\u001b[0m \u001b[32m━━━━━━━━━━━━━━━━━━━━\u001b[0m\u001b[37m\u001b[0m \u001b[1m0s\u001b[0m 76ms/step - accuracy: 0.8694 - loss: 0.4648 - val_accuracy: 0.9000 - val_loss: 0.4033\n",
            "Epoch 29/100\n",
            "\u001b[1m3/3\u001b[0m \u001b[32m━━━━━━━━━━━━━━━━━━━━\u001b[0m\u001b[37m\u001b[0m \u001b[1m0s\u001b[0m 79ms/step - accuracy: 0.8264 - loss: 0.4834 - val_accuracy: 0.9000 - val_loss: 0.3963\n",
            "Epoch 30/100\n",
            "\u001b[1m3/3\u001b[0m \u001b[32m━━━━━━━━━━━━━━━━━━━━\u001b[0m\u001b[37m\u001b[0m \u001b[1m0s\u001b[0m 76ms/step - accuracy: 0.8601 - loss: 0.4759 - val_accuracy: 0.9000 - val_loss: 0.3894\n",
            "Epoch 31/100\n",
            "\u001b[1m3/3\u001b[0m \u001b[32m━━━━━━━━━━━━━━━━━━━━\u001b[0m\u001b[37m\u001b[0m \u001b[1m0s\u001b[0m 66ms/step - accuracy: 0.8601 - loss: 0.4436 - val_accuracy: 0.9000 - val_loss: 0.3827\n",
            "Epoch 32/100\n",
            "\u001b[1m3/3\u001b[0m \u001b[32m━━━━━━━━━━━━━━━━━━━━\u001b[0m\u001b[37m\u001b[0m \u001b[1m0s\u001b[0m 84ms/step - accuracy: 0.8757 - loss: 0.4447 - val_accuracy: 0.9000 - val_loss: 0.3768\n",
            "Epoch 33/100\n",
            "\u001b[1m3/3\u001b[0m \u001b[32m━━━━━━━━━━━━━━━━━━━━\u001b[0m\u001b[37m\u001b[0m \u001b[1m0s\u001b[0m 67ms/step - accuracy: 0.8718 - loss: 0.4412 - val_accuracy: 0.9000 - val_loss: 0.3709\n",
            "Epoch 34/100\n",
            "\u001b[1m3/3\u001b[0m \u001b[32m━━━━━━━━━━━━━━━━━━━━\u001b[0m\u001b[37m\u001b[0m \u001b[1m0s\u001b[0m 81ms/step - accuracy: 0.8444 - loss: 0.4587 - val_accuracy: 0.8500 - val_loss: 0.3651\n",
            "Epoch 35/100\n",
            "\u001b[1m3/3\u001b[0m \u001b[32m━━━━━━━━━━━━━━━━━━━━\u001b[0m\u001b[37m\u001b[0m \u001b[1m0s\u001b[0m 70ms/step - accuracy: 0.8444 - loss: 0.4592 - val_accuracy: 0.8500 - val_loss: 0.3595\n",
            "Epoch 36/100\n",
            "\u001b[1m3/3\u001b[0m \u001b[32m━━━━━━━━━━━━━━━━━━━━\u001b[0m\u001b[37m\u001b[0m \u001b[1m0s\u001b[0m 80ms/step - accuracy: 0.8889 - loss: 0.4005 - val_accuracy: 0.8500 - val_loss: 0.3542\n",
            "Epoch 37/100\n",
            "\u001b[1m3/3\u001b[0m \u001b[32m━━━━━━━━━━━━━━━━━━━━\u001b[0m\u001b[37m\u001b[0m \u001b[1m0s\u001b[0m 79ms/step - accuracy: 0.8537 - loss: 0.4303 - val_accuracy: 0.8500 - val_loss: 0.3500\n",
            "Epoch 38/100\n",
            "\u001b[1m3/3\u001b[0m \u001b[32m━━━━━━━━━━━━━━━━━━━━\u001b[0m\u001b[37m\u001b[0m \u001b[1m0s\u001b[0m 47ms/step - accuracy: 0.8381 - loss: 0.4449 - val_accuracy: 0.8500 - val_loss: 0.3458\n",
            "Epoch 39/100\n",
            "\u001b[1m3/3\u001b[0m \u001b[32m━━━━━━━━━━━━━━━━━━━━\u001b[0m\u001b[37m\u001b[0m \u001b[1m0s\u001b[0m 46ms/step - accuracy: 0.8342 - loss: 0.4412 - val_accuracy: 0.8500 - val_loss: 0.3412\n",
            "Epoch 40/100\n",
            "\u001b[1m3/3\u001b[0m \u001b[32m━━━━━━━━━━━━━━━━━━━━\u001b[0m\u001b[37m\u001b[0m \u001b[1m0s\u001b[0m 45ms/step - accuracy: 0.8537 - loss: 0.4279 - val_accuracy: 0.8500 - val_loss: 0.3370\n",
            "Epoch 41/100\n",
            "\u001b[1m3/3\u001b[0m \u001b[32m━━━━━━━━━━━━━━━━━━━━\u001b[0m\u001b[37m\u001b[0m \u001b[1m0s\u001b[0m 54ms/step - accuracy: 0.8537 - loss: 0.4140 - val_accuracy: 0.8500 - val_loss: 0.3328\n",
            "Epoch 42/100\n",
            "\u001b[1m3/3\u001b[0m \u001b[32m━━━━━━━━━━━━━━━━━━━━\u001b[0m\u001b[37m\u001b[0m \u001b[1m0s\u001b[0m 46ms/step - accuracy: 0.8459 - loss: 0.4206 - val_accuracy: 0.8500 - val_loss: 0.3290\n",
            "Epoch 43/100\n",
            "\u001b[1m3/3\u001b[0m \u001b[32m━━━━━━━━━━━━━━━━━━━━\u001b[0m\u001b[37m\u001b[0m \u001b[1m0s\u001b[0m 46ms/step - accuracy: 0.8694 - loss: 0.4014 - val_accuracy: 0.8500 - val_loss: 0.3255\n",
            "Epoch 44/100\n",
            "\u001b[1m3/3\u001b[0m \u001b[32m━━━━━━━━━━━━━━━━━━━━\u001b[0m\u001b[37m\u001b[0m \u001b[1m0s\u001b[0m 51ms/step - accuracy: 0.8733 - loss: 0.3825 - val_accuracy: 0.8500 - val_loss: 0.3225\n",
            "Epoch 45/100\n",
            "\u001b[1m3/3\u001b[0m \u001b[32m━━━━━━━━━━━━━━━━━━━━\u001b[0m\u001b[37m\u001b[0m \u001b[1m0s\u001b[0m 47ms/step - accuracy: 0.8420 - loss: 0.4181 - val_accuracy: 0.8500 - val_loss: 0.3200\n",
            "Epoch 46/100\n",
            "\u001b[1m3/3\u001b[0m \u001b[32m━━━━━━━━━━━━━━━━━━━━\u001b[0m\u001b[37m\u001b[0m \u001b[1m0s\u001b[0m 40ms/step - accuracy: 0.8381 - loss: 0.4249 - val_accuracy: 0.8500 - val_loss: 0.3173\n",
            "Epoch 47/100\n",
            "\u001b[1m3/3\u001b[0m \u001b[32m━━━━━━━━━━━━━━━━━━━━\u001b[0m\u001b[37m\u001b[0m \u001b[1m0s\u001b[0m 47ms/step - accuracy: 0.8420 - loss: 0.4158 - val_accuracy: 0.8500 - val_loss: 0.3150\n",
            "Epoch 48/100\n",
            "\u001b[1m3/3\u001b[0m \u001b[32m━━━━━━━━━━━━━━━━━━━━\u001b[0m\u001b[37m\u001b[0m \u001b[1m0s\u001b[0m 39ms/step - accuracy: 0.8381 - loss: 0.4317 - val_accuracy: 0.8500 - val_loss: 0.3126\n",
            "Epoch 49/100\n",
            "\u001b[1m3/3\u001b[0m \u001b[32m━━━━━━━━━━━━━━━━━━━━\u001b[0m\u001b[37m\u001b[0m \u001b[1m0s\u001b[0m 45ms/step - accuracy: 0.8381 - loss: 0.4198 - val_accuracy: 0.8500 - val_loss: 0.3102\n",
            "Epoch 50/100\n",
            "\u001b[1m3/3\u001b[0m \u001b[32m━━━━━━━━━━━━━━━━━━━━\u001b[0m\u001b[37m\u001b[0m \u001b[1m0s\u001b[0m 39ms/step - accuracy: 0.8733 - loss: 0.3765 - val_accuracy: 0.8500 - val_loss: 0.3079\n",
            "Epoch 51/100\n",
            "\u001b[1m3/3\u001b[0m \u001b[32m━━━━━━━━━━━━━━━━━━━━\u001b[0m\u001b[37m\u001b[0m \u001b[1m0s\u001b[0m 43ms/step - accuracy: 0.8616 - loss: 0.3936 - val_accuracy: 0.8500 - val_loss: 0.3064\n",
            "Epoch 52/100\n",
            "\u001b[1m3/3\u001b[0m \u001b[32m━━━━━━━━━━━━━━━━━━━━\u001b[0m\u001b[37m\u001b[0m \u001b[1m0s\u001b[0m 41ms/step - accuracy: 0.8733 - loss: 0.3785 - val_accuracy: 0.8500 - val_loss: 0.3054\n",
            "Epoch 53/100\n",
            "\u001b[1m3/3\u001b[0m \u001b[32m━━━━━━━━━━━━━━━━━━━━\u001b[0m\u001b[37m\u001b[0m \u001b[1m0s\u001b[0m 47ms/step - accuracy: 0.8264 - loss: 0.4400 - val_accuracy: 0.8000 - val_loss: 0.3046\n",
            "Epoch 54/100\n",
            "\u001b[1m3/3\u001b[0m \u001b[32m━━━━━━━━━━━━━━━━━━━━\u001b[0m\u001b[37m\u001b[0m \u001b[1m0s\u001b[0m 45ms/step - accuracy: 0.8523 - loss: 0.3982 - val_accuracy: 0.8500 - val_loss: 0.3036\n",
            "Epoch 55/100\n",
            "\u001b[1m3/3\u001b[0m \u001b[32m━━━━━━━━━━━━━━━━━━━━\u001b[0m\u001b[37m\u001b[0m \u001b[1m0s\u001b[0m 47ms/step - accuracy: 0.8718 - loss: 0.3736 - val_accuracy: 0.8500 - val_loss: 0.3021\n",
            "Epoch 56/100\n",
            "\u001b[1m3/3\u001b[0m \u001b[32m━━━━━━━━━━━━━━━━━━━━\u001b[0m\u001b[37m\u001b[0m \u001b[1m0s\u001b[0m 58ms/step - accuracy: 0.8444 - loss: 0.4145 - val_accuracy: 0.8500 - val_loss: 0.3015\n",
            "Epoch 57/100\n",
            "\u001b[1m3/3\u001b[0m \u001b[32m━━━━━━━━━━━━━━━━━━━━\u001b[0m\u001b[37m\u001b[0m \u001b[1m0s\u001b[0m 48ms/step - accuracy: 0.8523 - loss: 0.4082 - val_accuracy: 0.8500 - val_loss: 0.3006\n",
            "Epoch 58/100\n",
            "\u001b[1m3/3\u001b[0m \u001b[32m━━━━━━━━━━━━━━━━━━━━\u001b[0m\u001b[37m\u001b[0m \u001b[1m0s\u001b[0m 50ms/step - accuracy: 0.8366 - loss: 0.4288 - val_accuracy: 0.8500 - val_loss: 0.2984\n",
            "Epoch 59/100\n",
            "\u001b[1m3/3\u001b[0m \u001b[32m━━━━━━━━━━━━━━━━━━━━\u001b[0m\u001b[37m\u001b[0m \u001b[1m0s\u001b[0m 45ms/step - accuracy: 0.8405 - loss: 0.4246 - val_accuracy: 0.8500 - val_loss: 0.2956\n",
            "Epoch 60/100\n",
            "\u001b[1m3/3\u001b[0m \u001b[32m━━━━━━━━━━━━━━━━━━━━\u001b[0m\u001b[37m\u001b[0m \u001b[1m0s\u001b[0m 64ms/step - accuracy: 0.8679 - loss: 0.3850 - val_accuracy: 0.8000 - val_loss: 0.2933\n",
            "Epoch 61/100\n",
            "\u001b[1m3/3\u001b[0m \u001b[32m━━━━━━━━━━━━━━━━━━━━\u001b[0m\u001b[37m\u001b[0m \u001b[1m0s\u001b[0m 46ms/step - accuracy: 0.8679 - loss: 0.3751 - val_accuracy: 0.8000 - val_loss: 0.2917\n",
            "Epoch 62/100\n",
            "\u001b[1m3/3\u001b[0m \u001b[32m━━━━━━━━━━━━━━━━━━━━\u001b[0m\u001b[37m\u001b[0m \u001b[1m0s\u001b[0m 68ms/step - accuracy: 0.8562 - loss: 0.3923 - val_accuracy: 0.8000 - val_loss: 0.2906\n",
            "Epoch 63/100\n",
            "\u001b[1m3/3\u001b[0m \u001b[32m━━━━━━━━━━━━━━━━━━━━\u001b[0m\u001b[37m\u001b[0m \u001b[1m0s\u001b[0m 46ms/step - accuracy: 0.8718 - loss: 0.3925 - val_accuracy: 0.8500 - val_loss: 0.2896\n",
            "Epoch 64/100\n",
            "\u001b[1m3/3\u001b[0m \u001b[32m━━━━━━━━━━━━━━━━━━━━\u001b[0m\u001b[37m\u001b[0m \u001b[1m0s\u001b[0m 48ms/step - accuracy: 0.8796 - loss: 0.3639 - val_accuracy: 0.8500 - val_loss: 0.2879\n",
            "Epoch 65/100\n",
            "\u001b[1m3/3\u001b[0m \u001b[32m━━━━━━━━━━━━━━━━━━━━\u001b[0m\u001b[37m\u001b[0m \u001b[1m0s\u001b[0m 45ms/step - accuracy: 0.8483 - loss: 0.4091 - val_accuracy: 0.8500 - val_loss: 0.2875\n",
            "Epoch 66/100\n",
            "\u001b[1m3/3\u001b[0m \u001b[32m━━━━━━━━━━━━━━━━━━━━\u001b[0m\u001b[37m\u001b[0m \u001b[1m0s\u001b[0m 46ms/step - accuracy: 0.8601 - loss: 0.3941 - val_accuracy: 0.8500 - val_loss: 0.2859\n",
            "Epoch 67/100\n",
            "\u001b[1m3/3\u001b[0m \u001b[32m━━━━━━━━━━━━━━━━━━━━\u001b[0m\u001b[37m\u001b[0m \u001b[1m0s\u001b[0m 46ms/step - accuracy: 0.8523 - loss: 0.4072 - val_accuracy: 0.8500 - val_loss: 0.2844\n",
            "Epoch 68/100\n",
            "\u001b[1m3/3\u001b[0m \u001b[32m━━━━━━━━━━━━━━━━━━━━\u001b[0m\u001b[37m\u001b[0m \u001b[1m0s\u001b[0m 46ms/step - accuracy: 0.8562 - loss: 0.3806 - val_accuracy: 0.8500 - val_loss: 0.2834\n",
            "Epoch 69/100\n",
            "\u001b[1m3/3\u001b[0m \u001b[32m━━━━━━━━━━━━━━━━━━━━\u001b[0m\u001b[37m\u001b[0m \u001b[1m0s\u001b[0m 63ms/step - accuracy: 0.8679 - loss: 0.3658 - val_accuracy: 0.8500 - val_loss: 0.2819\n",
            "Epoch 70/100\n",
            "\u001b[1m3/3\u001b[0m \u001b[32m━━━━━━━━━━━━━━━━━━━━\u001b[0m\u001b[37m\u001b[0m \u001b[1m0s\u001b[0m 41ms/step - accuracy: 0.8444 - loss: 0.4189 - val_accuracy: 0.8500 - val_loss: 0.2806\n",
            "Epoch 71/100\n",
            "\u001b[1m3/3\u001b[0m \u001b[32m━━━━━━━━━━━━━━━━━━━━\u001b[0m\u001b[37m\u001b[0m \u001b[1m0s\u001b[0m 41ms/step - accuracy: 0.8640 - loss: 0.3884 - val_accuracy: 0.9000 - val_loss: 0.2799\n",
            "Epoch 72/100\n",
            "\u001b[1m3/3\u001b[0m \u001b[32m━━━━━━━━━━━━━━━━━━━━\u001b[0m\u001b[37m\u001b[0m \u001b[1m0s\u001b[0m 43ms/step - accuracy: 0.8562 - loss: 0.3940 - val_accuracy: 0.9000 - val_loss: 0.2790\n",
            "Epoch 73/100\n",
            "\u001b[1m3/3\u001b[0m \u001b[32m━━━━━━━━━━━━━━━━━━━━\u001b[0m\u001b[37m\u001b[0m \u001b[1m0s\u001b[0m 39ms/step - accuracy: 0.8483 - loss: 0.4188 - val_accuracy: 0.8500 - val_loss: 0.2782\n",
            "Epoch 74/100\n",
            "\u001b[1m3/3\u001b[0m \u001b[32m━━━━━━━━━━━━━━━━━━━━\u001b[0m\u001b[37m\u001b[0m \u001b[1m0s\u001b[0m 41ms/step - accuracy: 0.8562 - loss: 0.3857 - val_accuracy: 0.8500 - val_loss: 0.2774\n",
            "Epoch 75/100\n",
            "\u001b[1m3/3\u001b[0m \u001b[32m━━━━━━━━━━━━━━━━━━━━\u001b[0m\u001b[37m\u001b[0m \u001b[1m0s\u001b[0m 44ms/step - accuracy: 0.8498 - loss: 0.3924 - val_accuracy: 0.8500 - val_loss: 0.2766\n",
            "Epoch 76/100\n",
            "\u001b[1m3/3\u001b[0m \u001b[32m━━━━━━━━━━━━━━━━━━━━\u001b[0m\u001b[37m\u001b[0m \u001b[1m0s\u001b[0m 72ms/step - accuracy: 0.8523 - loss: 0.4010 - val_accuracy: 0.9000 - val_loss: 0.2767\n",
            "Epoch 77/100\n",
            "\u001b[1m3/3\u001b[0m \u001b[32m━━━━━━━━━━━━━━━━━━━━\u001b[0m\u001b[37m\u001b[0m \u001b[1m0s\u001b[0m 44ms/step - accuracy: 0.8562 - loss: 0.3841 - val_accuracy: 0.8500 - val_loss: 0.2767\n",
            "Epoch 78/100\n",
            "\u001b[1m3/3\u001b[0m \u001b[32m━━━━━━━━━━━━━━━━━━━━\u001b[0m\u001b[37m\u001b[0m \u001b[1m0s\u001b[0m 48ms/step - accuracy: 0.8483 - loss: 0.3980 - val_accuracy: 0.8500 - val_loss: 0.2769\n",
            "Epoch 79/100\n",
            "\u001b[1m3/3\u001b[0m \u001b[32m━━━━━━━━━━━━━━━━━━━━\u001b[0m\u001b[37m\u001b[0m \u001b[1m0s\u001b[0m 48ms/step - accuracy: 0.8679 - loss: 0.3824 - val_accuracy: 0.8500 - val_loss: 0.2774\n",
            "Epoch 80/100\n",
            "\u001b[1m3/3\u001b[0m \u001b[32m━━━━━━━━━━━━━━━━━━━━\u001b[0m\u001b[37m\u001b[0m \u001b[1m0s\u001b[0m 46ms/step - accuracy: 0.8483 - loss: 0.3903 - val_accuracy: 0.8500 - val_loss: 0.2772\n",
            "Epoch 81/100\n",
            "\u001b[1m3/3\u001b[0m \u001b[32m━━━━━━━━━━━━━━━━━━━━\u001b[0m\u001b[37m\u001b[0m \u001b[1m0s\u001b[0m 48ms/step - accuracy: 0.8913 - loss: 0.3500 - val_accuracy: 0.8500 - val_loss: 0.2761\n",
            "Epoch 82/100\n",
            "\u001b[1m3/3\u001b[0m \u001b[32m━━━━━━━━━━━━━━━━━━━━\u001b[0m\u001b[37m\u001b[0m \u001b[1m0s\u001b[0m 63ms/step - accuracy: 0.8523 - loss: 0.3898 - val_accuracy: 0.8500 - val_loss: 0.2744\n",
            "Epoch 83/100\n",
            "\u001b[1m3/3\u001b[0m \u001b[32m━━━━━━━━━━━━━━━━━━━━\u001b[0m\u001b[37m\u001b[0m \u001b[1m0s\u001b[0m 66ms/step - accuracy: 0.8640 - loss: 0.3881 - val_accuracy: 0.8500 - val_loss: 0.2737\n",
            "Epoch 84/100\n",
            "\u001b[1m3/3\u001b[0m \u001b[32m━━━━━━━━━━━━━━━━━━━━\u001b[0m\u001b[37m\u001b[0m \u001b[1m0s\u001b[0m 45ms/step - accuracy: 0.8757 - loss: 0.3511 - val_accuracy: 0.8500 - val_loss: 0.2722\n",
            "Epoch 85/100\n",
            "\u001b[1m3/3\u001b[0m \u001b[32m━━━━━━━━━━━━━━━━━━━━\u001b[0m\u001b[37m\u001b[0m \u001b[1m0s\u001b[0m 44ms/step - accuracy: 0.8601 - loss: 0.3909 - val_accuracy: 0.9000 - val_loss: 0.2710\n",
            "Epoch 86/100\n",
            "\u001b[1m3/3\u001b[0m \u001b[32m━━━━━━━━━━━━━━━━━━━━\u001b[0m\u001b[37m\u001b[0m \u001b[1m0s\u001b[0m 46ms/step - accuracy: 0.8601 - loss: 0.3772 - val_accuracy: 0.8500 - val_loss: 0.2705\n",
            "Epoch 87/100\n",
            "\u001b[1m3/3\u001b[0m \u001b[32m━━━━━━━━━━━━━━━━━━━━\u001b[0m\u001b[37m\u001b[0m \u001b[1m0s\u001b[0m 48ms/step - accuracy: 0.8601 - loss: 0.3839 - val_accuracy: 0.8500 - val_loss: 0.2699\n",
            "Epoch 88/100\n",
            "\u001b[1m3/3\u001b[0m \u001b[32m━━━━━━━━━━━━━━━━━━━━\u001b[0m\u001b[37m\u001b[0m \u001b[1m0s\u001b[0m 45ms/step - accuracy: 0.8796 - loss: 0.3348 - val_accuracy: 0.8500 - val_loss: 0.2697\n",
            "Epoch 89/100\n",
            "\u001b[1m3/3\u001b[0m \u001b[32m━━━━━━━━━━━━━━━━━━━━\u001b[0m\u001b[37m\u001b[0m \u001b[1m0s\u001b[0m 54ms/step - accuracy: 0.8640 - loss: 0.3714 - val_accuracy: 0.8500 - val_loss: 0.2706\n",
            "Epoch 90/100\n",
            "\u001b[1m3/3\u001b[0m \u001b[32m━━━━━━━━━━━━━━━━━━━━\u001b[0m\u001b[37m\u001b[0m \u001b[1m0s\u001b[0m 48ms/step - accuracy: 0.8640 - loss: 0.3727 - val_accuracy: 0.8500 - val_loss: 0.2711\n",
            "Epoch 91/100\n",
            "\u001b[1m3/3\u001b[0m \u001b[32m━━━━━━━━━━━━━━━━━━━━\u001b[0m\u001b[37m\u001b[0m \u001b[1m0s\u001b[0m 50ms/step - accuracy: 0.8405 - loss: 0.4179 - val_accuracy: 0.8500 - val_loss: 0.2727\n",
            "Epoch 92/100\n",
            "\u001b[1m3/3\u001b[0m \u001b[32m━━━━━━━━━━━━━━━━━━━━\u001b[0m\u001b[37m\u001b[0m \u001b[1m0s\u001b[0m 45ms/step - accuracy: 0.8562 - loss: 0.3975 - val_accuracy: 0.8500 - val_loss: 0.2723\n",
            "Epoch 93/100\n",
            "\u001b[1m3/3\u001b[0m \u001b[32m━━━━━━━━━━━━━━━━━━━━\u001b[0m\u001b[37m\u001b[0m \u001b[1m0s\u001b[0m 44ms/step - accuracy: 0.8757 - loss: 0.3668 - val_accuracy: 0.8500 - val_loss: 0.2714\n",
            "Epoch 94/100\n",
            "\u001b[1m3/3\u001b[0m \u001b[32m━━━━━━━━━━━━━━━━━━━━\u001b[0m\u001b[37m\u001b[0m \u001b[1m0s\u001b[0m 48ms/step - accuracy: 0.8601 - loss: 0.3889 - val_accuracy: 0.8500 - val_loss: 0.2704\n",
            "Epoch 95/100\n",
            "\u001b[1m3/3\u001b[0m \u001b[32m━━━━━━━━━━━━━━━━━━━━\u001b[0m\u001b[37m\u001b[0m \u001b[1m0s\u001b[0m 46ms/step - accuracy: 0.8640 - loss: 0.3793 - val_accuracy: 0.8500 - val_loss: 0.2688\n",
            "Epoch 96/100\n",
            "\u001b[1m3/3\u001b[0m \u001b[32m━━━━━━━━━━━━━━━━━━━━\u001b[0m\u001b[37m\u001b[0m \u001b[1m0s\u001b[0m 58ms/step - accuracy: 0.8523 - loss: 0.3870 - val_accuracy: 0.8500 - val_loss: 0.2672\n",
            "Epoch 97/100\n",
            "\u001b[1m3/3\u001b[0m \u001b[32m━━━━━━━━━━━━━━━━━━━━\u001b[0m\u001b[37m\u001b[0m \u001b[1m0s\u001b[0m 47ms/step - accuracy: 0.8640 - loss: 0.3612 - val_accuracy: 0.8500 - val_loss: 0.2661\n",
            "Epoch 98/100\n",
            "\u001b[1m3/3\u001b[0m \u001b[32m━━━━━━━━━━━━━━━━━━━━\u001b[0m\u001b[37m\u001b[0m \u001b[1m0s\u001b[0m 45ms/step - accuracy: 0.8601 - loss: 0.3704 - val_accuracy: 0.8500 - val_loss: 0.2656\n",
            "Epoch 99/100\n",
            "\u001b[1m3/3\u001b[0m \u001b[32m━━━━━━━━━━━━━━━━━━━━\u001b[0m\u001b[37m\u001b[0m \u001b[1m0s\u001b[0m 44ms/step - accuracy: 0.8679 - loss: 0.3604 - val_accuracy: 0.8500 - val_loss: 0.2650\n",
            "Epoch 100/100\n",
            "\u001b[1m3/3\u001b[0m \u001b[32m━━━━━━━━━━━━━━━━━━━━\u001b[0m\u001b[37m\u001b[0m \u001b[1m0s\u001b[0m 43ms/step - accuracy: 0.8601 - loss: 0.3717 - val_accuracy: 0.8500 - val_loss: 0.2639\n"
          ]
        }
      ]
    },
    {
      "cell_type": "code",
      "source": [
        "model.get_weights()"
      ],
      "metadata": {
        "colab": {
          "base_uri": "https://localhost:8080/"
        },
        "id": "pSks4JmitNXX",
        "outputId": "e432281f-c92b-4ba6-cc84-a6cf067c9110"
      },
      "execution_count": 25,
      "outputs": [
        {
          "output_type": "execute_result",
          "data": {
            "text/plain": [
              "[array([[-0.08628798,  0.0818056 ,  0.5613093 , -0.60540956,  0.29908037,\n",
              "          1.2066041 , -0.42013288, -0.47253412,  0.9854834 ,  0.59705323],\n",
              "        [-0.46096155,  0.23381674, -1.9342366 , -0.7036652 , -0.713908  ,\n",
              "         -0.37208185,  0.19473843,  0.8988932 , -0.00311848,  0.88478416]],\n",
              "       dtype=float32),\n",
              " array([-0.07184471,  0.08315568, -0.01300229, -0.10524754,  0.03879363,\n",
              "         0.14250796,  0.01300195, -0.05785718,  0.07177664, -0.29848567],\n",
              "       dtype=float32),\n",
              " array([[-9.03067961e-02, -1.68740496e-01, -3.61801907e-02,\n",
              "          3.75599533e-01,  3.97719890e-01,  7.30269104e-02,\n",
              "          1.21954411e-01,  4.76549447e-01,  3.22389036e-01,\n",
              "         -2.57534049e-02],\n",
              "        [ 1.31700232e-04,  3.62321258e-01, -5.92868626e-01,\n",
              "          1.88355237e-01, -4.03199438e-03,  4.06996340e-01,\n",
              "          1.68542027e-01,  3.51849161e-02, -1.88983962e-01,\n",
              "         -3.10584515e-01],\n",
              "        [-5.73800147e-01,  5.07013857e-01, -1.77918579e-02,\n",
              "          5.26728034e-01,  7.81993151e-01, -6.09751284e-01,\n",
              "         -6.77672029e-02, -4.06508505e-01, -3.04296501e-02,\n",
              "          1.34682273e-02],\n",
              "        [ 3.30523998e-01, -3.04834902e-01,  2.00830117e-01,\n",
              "          1.78789288e-01,  1.27296135e-01, -1.77317977e-01,\n",
              "         -6.43006265e-01,  2.16060504e-02, -6.64596140e-01,\n",
              "          7.59838670e-02],\n",
              "        [-6.40527666e-01,  1.23299122e-01, -4.59182501e-01,\n",
              "         -2.63388544e-01,  6.17766738e-01, -3.46410245e-01,\n",
              "         -1.09999552e-01,  8.92758846e-01, -1.89396560e-01,\n",
              "         -4.72496927e-01],\n",
              "        [ 2.83997834e-01,  5.84226906e-01, -1.75734073e-01,\n",
              "         -3.23170394e-01,  2.69312173e-01,  1.70891713e-02,\n",
              "          6.95473611e-01, -1.30779937e-01,  2.72595614e-01,\n",
              "         -7.34127462e-02],\n",
              "        [ 2.27264419e-01, -9.04518813e-02, -1.82377964e-01,\n",
              "          1.21573485e-01, -1.34811103e-01,  2.45772883e-01,\n",
              "         -3.74254972e-01,  4.17309672e-01,  6.13540709e-01,\n",
              "         -5.29377580e-01],\n",
              "        [ 1.38419300e-01,  3.67239356e-01, -2.66555160e-01,\n",
              "         -1.61894821e-02, -1.59149263e-02, -1.27476752e-01,\n",
              "         -7.19726622e-01, -4.17267203e-01,  1.79375201e-01,\n",
              "          1.51481748e-01],\n",
              "        [ 3.95793878e-02,  8.04477111e-02, -1.03152299e-03,\n",
              "          1.10254303e-01,  1.53971344e-01,  1.18469782e-01,\n",
              "         -3.36571544e-01,  3.21623743e-01, -3.59597197e-03,\n",
              "         -5.08676291e-01],\n",
              "        [ 1.88086584e-01, -1.52786141e-02, -4.43450129e-03,\n",
              "          4.77250457e-01,  4.93415669e-02, -3.38423789e-01,\n",
              "         -1.93909243e-01,  1.89154521e-01,  6.29390001e-01,\n",
              "         -1.83052540e-01]], dtype=float32),\n",
              " array([ 0.05107997,  0.18553801,  0.2171838 , -0.04687279, -0.0815301 ,\n",
              "        -0.08527092,  0.04086184,  0.05542022, -0.11977899, -0.15878245],\n",
              "       dtype=float32),\n",
              " array([[-4.0849257e-01, -5.9605014e-01, -2.9485247e-01,  2.5582489e-01,\n",
              "         -4.2464352e-01,  3.7039721e-01, -1.2781943e-01,  5.1198453e-01,\n",
              "         -1.1331623e-01,  1.9409116e-01],\n",
              "        [-6.1613065e-01, -1.7985164e-01, -1.2879898e-01,  1.4475705e-01,\n",
              "          2.1606170e-01,  1.9781055e-01,  8.4927872e-02, -4.3934900e-02,\n",
              "         -1.4436565e-01, -5.1934624e-01],\n",
              "        [-2.7508032e-01, -4.2111504e-01,  3.7274361e-01,  2.9355478e-01,\n",
              "          2.4034268e-01,  4.4812042e-02, -2.1234279e-02,  3.2368168e-02,\n",
              "          2.1614549e-01, -5.9263039e-01],\n",
              "        [ 5.5306071e-01,  5.1268119e-01,  5.4265624e-01,  5.8397490e-01,\n",
              "          6.3424724e-01, -6.5666400e-02,  1.8030028e-01, -1.4198078e-02,\n",
              "         -3.4787379e-02, -4.5970220e-02],\n",
              "        [-1.2281714e-01,  2.6659709e-01,  3.2415670e-01,  6.8189830e-02,\n",
              "         -7.1293679e-03, -1.3962215e+00,  1.9645506e-01,  2.7514173e-04,\n",
              "         -4.5964181e-02, -1.8262033e-01],\n",
              "        [ 1.5389042e-01, -2.5116122e-01,  1.6124620e-01,  5.5485014e-02,\n",
              "         -2.7997726e-01, -4.3211812e-01, -3.0885005e-01,  1.0959771e-01,\n",
              "          2.3638865e-01, -2.9466626e-01],\n",
              "        [-4.6560618e-01,  1.2429656e-01, -7.2161132e-01, -3.5206071e-01,\n",
              "         -4.6116364e-01, -3.0621964e-01,  4.0730029e-01, -7.8212911e-01,\n",
              "          1.8910196e-01, -4.4945907e-02],\n",
              "        [-3.2356423e-01,  8.1848413e-01, -5.3519827e-01, -7.3541695e-01,\n",
              "          9.6087664e-02,  3.2655734e-01,  2.6585931e-01, -4.5487162e-02,\n",
              "          3.4535354e-01, -1.6417870e-01],\n",
              "        [ 1.3848656e-01, -8.5806109e-02,  3.9906573e-01, -2.0535514e-01,\n",
              "         -5.0066364e-01,  3.0116579e-01, -2.2934908e-01,  2.2805412e-01,\n",
              "         -1.7492457e-01, -6.2568754e-02],\n",
              "        [ 4.2307425e-01,  8.4082529e-02, -9.4693743e-02,  1.2671608e-01,\n",
              "         -3.6277157e-01, -7.7819251e-02,  2.6990542e-01, -2.1781887e-01,\n",
              "          3.7687907e-01,  1.2616128e-01]], dtype=float32),\n",
              " array([-0.07207762,  0.000318  , -0.10732226, -0.09392738,  0.06305541,\n",
              "         0.0771297 , -0.06208539,  0.05371651, -0.00021848, -0.017064  ],\n",
              "       dtype=float32),\n",
              " array([[ 0.5112914 , -0.34620968,  0.28204328, -0.01536847, -0.1276817 ,\n",
              "         -0.8959532 ,  0.07262095,  0.50779533, -0.2763124 ,  0.36867487],\n",
              "        [ 0.01414756,  0.5445682 ,  0.27088836, -0.38098907,  0.33395562,\n",
              "          0.26154467, -0.40491506, -0.5824498 , -0.02500512,  0.32928792],\n",
              "        [-0.53705513,  0.156096  , -0.06403191, -0.19126472, -0.01047619,\n",
              "         -0.5461454 , -0.38553777, -0.05492406, -0.289781  ,  0.2871561 ],\n",
              "        [ 0.21251103, -0.25258005,  0.1442772 , -0.12430044,  0.3593279 ,\n",
              "         -0.53314346,  0.4429737 , -0.35353425, -0.46957475,  0.22621943],\n",
              "        [-0.03909844,  0.81452054, -0.74127275, -0.05688936,  0.47473663,\n",
              "         -0.2252823 , -0.41900596, -0.43272972,  0.01705341, -0.28506142],\n",
              "        [ 0.14932872, -0.25920135,  0.88550556,  0.57842493, -0.0938915 ,\n",
              "          0.57498485,  0.29197118,  0.03055752, -0.3110288 ,  0.507656  ],\n",
              "        [-0.25014907,  0.5053645 , -0.13802622, -0.7660049 ,  0.16080064,\n",
              "         -0.1662094 ,  0.01920296, -0.13653591, -0.31779882, -0.32512593],\n",
              "        [ 0.2558139 , -0.5111918 , -0.17043716, -0.18202335, -1.0145831 ,\n",
              "         -0.16036455,  0.6438245 ,  0.5211958 , -0.09280615, -0.06877469],\n",
              "        [-0.1821969 ,  0.11529818,  0.32339823, -0.25787234,  0.1853999 ,\n",
              "         -0.09115326,  0.10322466, -0.7263426 ,  0.07247489,  0.13999794],\n",
              "        [-0.10441307,  0.4917329 , -0.01008774,  0.6397731 ,  0.35628554,\n",
              "         -0.11875472, -0.04165889, -0.5385878 , -0.31116736,  0.20285927]],\n",
              "       dtype=float32),\n",
              " array([-0.00918726, -0.0358232 ,  0.00099361,  0.00475419, -0.01498676,\n",
              "         0.0835612 ,  0.05075569, -0.01401081,  0.01211081,  0.01831093],\n",
              "       dtype=float32),\n",
              " array([[-0.0978263 ],\n",
              "        [ 0.3420695 ],\n",
              "        [-0.37942964],\n",
              "        [-0.5051357 ],\n",
              "        [ 0.33932278],\n",
              "        [ 0.34322742],\n",
              "        [-0.21957374],\n",
              "        [-0.5010662 ],\n",
              "        [ 0.06192404],\n",
              "        [-0.1555723 ]], dtype=float32),\n",
              " array([0.005113], dtype=float32)]"
            ]
          },
          "metadata": {},
          "execution_count": 25
        }
      ]
    },
    {
      "cell_type": "code",
      "source": [
        "X.shape"
      ],
      "metadata": {
        "colab": {
          "base_uri": "https://localhost:8080/"
        },
        "id": "38iJWg2jt-4e",
        "outputId": "296d3a01-ac44-4d04-92c1-04c84b66167d"
      },
      "execution_count": 31,
      "outputs": [
        {
          "output_type": "execute_result",
          "data": {
            "text/plain": [
              "(99, 2)"
            ]
          },
          "metadata": {},
          "execution_count": 31
        }
      ]
    },
    {
      "cell_type": "code",
      "source": [
        "from mlxtend.plotting import plot_decision_regions\n",
        "plot_decision_regions(X.values, y.values.astype('int'), clf=model, legend = 2)\n"
      ],
      "metadata": {
        "colab": {
          "base_uri": "https://localhost:8080/",
          "height": 465
        },
        "id": "QsZLIjDitZOg",
        "outputId": "e100fbf1-7568-48b5-9eef-695174e8b799"
      },
      "execution_count": 32,
      "outputs": [
        {
          "output_type": "stream",
          "name": "stdout",
          "text": [
            "\u001b[1m9600/9600\u001b[0m \u001b[32m━━━━━━━━━━━━━━━━━━━━\u001b[0m\u001b[37m\u001b[0m \u001b[1m15s\u001b[0m 2ms/step\n"
          ]
        },
        {
          "output_type": "execute_result",
          "data": {
            "text/plain": [
              "<Axes: >"
            ]
          },
          "metadata": {},
          "execution_count": 32
        },
        {
          "output_type": "display_data",
          "data": {
            "text/plain": [
              "<Figure size 640x480 with 1 Axes>"
            ],
            "image/png": "[encoded data removed]"
          },
          "metadata": {}
        }
      ]
    },
    {
      "cell_type": "code",
      "source": [],
      "metadata": {
        "id": "O7xV5G7-tmOA"
      },
      "execution_count": null,
      "outputs": []
    }
  ]
}